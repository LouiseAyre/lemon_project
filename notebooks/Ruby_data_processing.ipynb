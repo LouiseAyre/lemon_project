{
 "cells": [
  {
   "cell_type": "markdown",
   "id": "d15d7fd4-6a81-432e-8ba6-199d06177abc",
   "metadata": {},
   "source": [
    "## Import Packages ##\n"
   ]
  },
  {
   "cell_type": "code",
   "execution_count": 3,
   "id": "f5a35241",
   "metadata": {},
   "outputs": [],
   "source": [
    "import json\n",
    "import pandas as pd\n",
    "import matplotlib.pyplot as plt\n",
    "import shutil\n",
    "import numpy as np\n",
    "import os"
   ]
  },
  {
   "cell_type": "markdown",
   "id": "451e487d-27a3-4ad7-b3f5-f04f2839e6e4",
   "metadata": {},
   "source": [
    "## Explore Data ##"
   ]
  },
  {
   "cell_type": "code",
   "execution_count": 4,
   "id": "25e6e95b-3562-4c3f-b329-b572c1ba0147",
   "metadata": {},
   "outputs": [],
   "source": [
    "data = json.load(open(\"instances_default.json\"))"
   ]
  },
  {
   "cell_type": "code",
   "execution_count": 5,
   "id": "29317452",
   "metadata": {},
   "outputs": [
    {
     "data": {
      "text/plain": [
       "dict_keys(['licenses', 'info', 'annotations', 'images', 'categories'])"
      ]
     },
     "execution_count": 5,
     "metadata": {},
     "output_type": "execute_result"
    }
   ],
   "source": [
    "data.keys()"
   ]
  },
  {
   "cell_type": "code",
   "execution_count": null,
   "id": "1498d45f",
   "metadata": {},
   "outputs": [],
   "source": [
    "data"
   ]
  },
  {
   "cell_type": "code",
   "execution_count": 20,
   "id": "01ff4e32",
   "metadata": {},
   "outputs": [
    {
     "data": {
      "text/plain": [
       "{'year': '2020',\n",
       " 'url': 'https://github.com/softwaremill/lemon-dataset',\n",
       " 'version': '1',\n",
       " 'date_created': '28.07.2020',\n",
       " 'contributor': 'Maciej Adamiak',\n",
       " 'institution': 'SoftwareMill',\n",
       " 'description': 'Lemons quality control dataset'}"
      ]
     },
     "execution_count": 20,
     "metadata": {},
     "output_type": "execute_result"
    }
   ],
   "source": [
    "data['info']"
   ]
  },
  {
   "cell_type": "markdown",
   "id": "ff4f905d-9a49-4f76-a13f-bdccd6f17082",
   "metadata": {},
   "source": [
    "## Total number of Lemon Image ##\n"
   ]
  },
  {
   "cell_type": "code",
   "execution_count": 8,
   "id": "adf2f4f6",
   "metadata": {},
   "outputs": [
    {
     "data": {
      "text/plain": [
       "2690"
      ]
     },
     "execution_count": 8,
     "metadata": {},
     "output_type": "execute_result"
    }
   ],
   "source": [
    "len(data['images'])"
   ]
  },
  {
   "cell_type": "code",
   "execution_count": 9,
   "id": "5fa366f2",
   "metadata": {},
   "outputs": [],
   "source": [
    "annotations = data['annotations']"
   ]
  },
  {
   "cell_type": "markdown",
   "id": "3568b87c",
   "metadata": {},
   "source": [
    "## Merge Category with Image ##\n",
    "Found multiple categories PER image\n"
   ]
  },
  {
   "cell_type": "code",
   "execution_count": 10,
   "id": "adf0d3be",
   "metadata": {},
   "outputs": [
    {
     "data": {
      "text/plain": [
       "[{'id': 1, 'supercategory': '', 'name': 'image_quality'},\n",
       " {'id': 2, 'supercategory': '', 'name': 'illness'},\n",
       " {'id': 3, 'supercategory': '', 'name': 'gangrene'},\n",
       " {'id': 4, 'supercategory': '', 'name': 'mould'},\n",
       " {'id': 5, 'supercategory': '', 'name': 'blemish'},\n",
       " {'id': 6, 'supercategory': '', 'name': 'dark_style_remains'},\n",
       " {'id': 7, 'supercategory': '', 'name': 'artifact'},\n",
       " {'id': 8, 'supercategory': '', 'name': 'condition'},\n",
       " {'id': 9, 'supercategory': '', 'name': 'pedicel'}]"
      ]
     },
     "execution_count": 10,
     "metadata": {},
     "output_type": "execute_result"
    }
   ],
   "source": [
    "data['categories']"
   ]
  },
  {
   "cell_type": "code",
   "execution_count": 11,
   "id": "c447b592",
   "metadata": {},
   "outputs": [],
   "source": [
    "rows = [[dicts['id'],dicts['area'], dicts['image_id'],dicts['category_id']] for dicts in annotations]"
   ]
  },
  {
   "cell_type": "code",
   "execution_count": 12,
   "id": "bd4160ae",
   "metadata": {},
   "outputs": [
    {
     "data": {
      "text/html": [
       "<div>\n",
       "<style scoped>\n",
       "    .dataframe tbody tr th:only-of-type {\n",
       "        vertical-align: middle;\n",
       "    }\n",
       "\n",
       "    .dataframe tbody tr th {\n",
       "        vertical-align: top;\n",
       "    }\n",
       "\n",
       "    .dataframe thead th {\n",
       "        text-align: right;\n",
       "    }\n",
       "</style>\n",
       "<table border=\"1\" class=\"dataframe\">\n",
       "  <thead>\n",
       "    <tr style=\"text-align: right;\">\n",
       "      <th></th>\n",
       "      <th>Annot_id</th>\n",
       "      <th>area</th>\n",
       "      <th>image_id</th>\n",
       "      <th>category</th>\n",
       "    </tr>\n",
       "  </thead>\n",
       "  <tbody>\n",
       "    <tr>\n",
       "      <th>0</th>\n",
       "      <td>1</td>\n",
       "      <td>539.0</td>\n",
       "      <td>0</td>\n",
       "      <td>9</td>\n",
       "    </tr>\n",
       "    <tr>\n",
       "      <th>1</th>\n",
       "      <td>2</td>\n",
       "      <td>622.0</td>\n",
       "      <td>0</td>\n",
       "      <td>5</td>\n",
       "    </tr>\n",
       "    <tr>\n",
       "      <th>2</th>\n",
       "      <td>3</td>\n",
       "      <td>809.0</td>\n",
       "      <td>0</td>\n",
       "      <td>5</td>\n",
       "    </tr>\n",
       "    <tr>\n",
       "      <th>3</th>\n",
       "      <td>4</td>\n",
       "      <td>30.0</td>\n",
       "      <td>100</td>\n",
       "      <td>5</td>\n",
       "    </tr>\n",
       "    <tr>\n",
       "      <th>4</th>\n",
       "      <td>5</td>\n",
       "      <td>31.0</td>\n",
       "      <td>100</td>\n",
       "      <td>2</td>\n",
       "    </tr>\n",
       "    <tr>\n",
       "      <th>...</th>\n",
       "      <td>...</td>\n",
       "      <td>...</td>\n",
       "      <td>...</td>\n",
       "      <td>...</td>\n",
       "    </tr>\n",
       "    <tr>\n",
       "      <th>33748</th>\n",
       "      <td>33749</td>\n",
       "      <td>1517.0</td>\n",
       "      <td>6502</td>\n",
       "      <td>5</td>\n",
       "    </tr>\n",
       "    <tr>\n",
       "      <th>33749</th>\n",
       "      <td>33750</td>\n",
       "      <td>75.0</td>\n",
       "      <td>6502</td>\n",
       "      <td>5</td>\n",
       "    </tr>\n",
       "    <tr>\n",
       "      <th>33750</th>\n",
       "      <td>33751</td>\n",
       "      <td>760.0</td>\n",
       "      <td>6502</td>\n",
       "      <td>5</td>\n",
       "    </tr>\n",
       "    <tr>\n",
       "      <th>33751</th>\n",
       "      <td>33752</td>\n",
       "      <td>84.0</td>\n",
       "      <td>6502</td>\n",
       "      <td>5</td>\n",
       "    </tr>\n",
       "    <tr>\n",
       "      <th>33752</th>\n",
       "      <td>33753</td>\n",
       "      <td>31.0</td>\n",
       "      <td>6502</td>\n",
       "      <td>5</td>\n",
       "    </tr>\n",
       "  </tbody>\n",
       "</table>\n",
       "<p>33753 rows × 4 columns</p>\n",
       "</div>"
      ],
      "text/plain": [
       "       Annot_id    area  image_id  category\n",
       "0             1   539.0         0         9\n",
       "1             2   622.0         0         5\n",
       "2             3   809.0         0         5\n",
       "3             4    30.0       100         5\n",
       "4             5    31.0       100         2\n",
       "...         ...     ...       ...       ...\n",
       "33748     33749  1517.0      6502         5\n",
       "33749     33750    75.0      6502         5\n",
       "33750     33751   760.0      6502         5\n",
       "33751     33752    84.0      6502         5\n",
       "33752     33753    31.0      6502         5\n",
       "\n",
       "[33753 rows x 4 columns]"
      ]
     },
     "execution_count": 12,
     "metadata": {},
     "output_type": "execute_result"
    }
   ],
   "source": [
    "df = pd.DataFrame(rows, columns=[\"Annot_id\",\"area\",\"image_id\",\"category\"])\n",
    "df"
   ]
  },
  {
   "cell_type": "code",
   "execution_count": null,
   "id": "3bb1da9f",
   "metadata": {},
   "outputs": [],
   "source": [
    "images = data['images']\n",
    "images"
   ]
  },
  {
   "cell_type": "code",
   "execution_count": 14,
   "id": "8ca05254",
   "metadata": {},
   "outputs": [],
   "source": [
    "image_rows = [[image['id'],image['file_name']] for image in images]"
   ]
  },
  {
   "cell_type": "code",
   "execution_count": 15,
   "id": "eab86bea",
   "metadata": {},
   "outputs": [
    {
     "data": {
      "text/html": [
       "<div>\n",
       "<style scoped>\n",
       "    .dataframe tbody tr th:only-of-type {\n",
       "        vertical-align: middle;\n",
       "    }\n",
       "\n",
       "    .dataframe tbody tr th {\n",
       "        vertical-align: top;\n",
       "    }\n",
       "\n",
       "    .dataframe thead th {\n",
       "        text-align: right;\n",
       "    }\n",
       "</style>\n",
       "<table border=\"1\" class=\"dataframe\">\n",
       "  <thead>\n",
       "    <tr style=\"text-align: right;\">\n",
       "      <th></th>\n",
       "      <th>image_id</th>\n",
       "      <th>file_name</th>\n",
       "    </tr>\n",
       "  </thead>\n",
       "  <tbody>\n",
       "    <tr>\n",
       "      <th>0</th>\n",
       "      <td>0</td>\n",
       "      <td>images/0001_A_H_0_A.jpg</td>\n",
       "    </tr>\n",
       "    <tr>\n",
       "      <th>1</th>\n",
       "      <td>100</td>\n",
       "      <td>images/0003_A_V_150_A.jpg</td>\n",
       "    </tr>\n",
       "    <tr>\n",
       "      <th>2</th>\n",
       "      <td>101</td>\n",
       "      <td>images/0003_A_V_15_A.jpg</td>\n",
       "    </tr>\n",
       "    <tr>\n",
       "      <th>3</th>\n",
       "      <td>102</td>\n",
       "      <td>images/0003_A_V_165_A.jpg</td>\n",
       "    </tr>\n",
       "    <tr>\n",
       "      <th>4</th>\n",
       "      <td>103</td>\n",
       "      <td>images/0003_A_V_30_A.jpg</td>\n",
       "    </tr>\n",
       "    <tr>\n",
       "      <th>...</th>\n",
       "      <td>...</td>\n",
       "      <td>...</td>\n",
       "    </tr>\n",
       "    <tr>\n",
       "      <th>2685</th>\n",
       "      <td>6098</td>\n",
       "      <td>images/0023_G_H_135_F.jpg</td>\n",
       "    </tr>\n",
       "    <tr>\n",
       "      <th>2686</th>\n",
       "      <td>6099</td>\n",
       "      <td>images/0023_G_H_150_F.jpg</td>\n",
       "    </tr>\n",
       "    <tr>\n",
       "      <th>2687</th>\n",
       "      <td>6500</td>\n",
       "      <td>images/0037_G_I_0_A.jpg</td>\n",
       "    </tr>\n",
       "    <tr>\n",
       "      <th>2688</th>\n",
       "      <td>6501</td>\n",
       "      <td>images/0037_G_I_105_A.jpg</td>\n",
       "    </tr>\n",
       "    <tr>\n",
       "      <th>2689</th>\n",
       "      <td>6502</td>\n",
       "      <td>images/0037_G_I_120_A.jpg</td>\n",
       "    </tr>\n",
       "  </tbody>\n",
       "</table>\n",
       "<p>2690 rows × 2 columns</p>\n",
       "</div>"
      ],
      "text/plain": [
       "      image_id                  file_name\n",
       "0            0    images/0001_A_H_0_A.jpg\n",
       "1          100  images/0003_A_V_150_A.jpg\n",
       "2          101   images/0003_A_V_15_A.jpg\n",
       "3          102  images/0003_A_V_165_A.jpg\n",
       "4          103   images/0003_A_V_30_A.jpg\n",
       "...        ...                        ...\n",
       "2685      6098  images/0023_G_H_135_F.jpg\n",
       "2686      6099  images/0023_G_H_150_F.jpg\n",
       "2687      6500    images/0037_G_I_0_A.jpg\n",
       "2688      6501  images/0037_G_I_105_A.jpg\n",
       "2689      6502  images/0037_G_I_120_A.jpg\n",
       "\n",
       "[2690 rows x 2 columns]"
      ]
     },
     "execution_count": 15,
     "metadata": {},
     "output_type": "execute_result"
    }
   ],
   "source": [
    "image_df = pd.DataFrame(image_rows, columns = ['image_id','file_name'])\n",
    "image_df"
   ]
  },
  {
   "cell_type": "code",
   "execution_count": 16,
   "id": "0e7b8aec",
   "metadata": {},
   "outputs": [
    {
     "data": {
      "text/html": [
       "<div>\n",
       "<style scoped>\n",
       "    .dataframe tbody tr th:only-of-type {\n",
       "        vertical-align: middle;\n",
       "    }\n",
       "\n",
       "    .dataframe tbody tr th {\n",
       "        vertical-align: top;\n",
       "    }\n",
       "\n",
       "    .dataframe thead th {\n",
       "        text-align: right;\n",
       "    }\n",
       "</style>\n",
       "<table border=\"1\" class=\"dataframe\">\n",
       "  <thead>\n",
       "    <tr style=\"text-align: right;\">\n",
       "      <th></th>\n",
       "      <th>Annot_id</th>\n",
       "      <th>area</th>\n",
       "      <th>image_id</th>\n",
       "      <th>category</th>\n",
       "      <th>file_name</th>\n",
       "    </tr>\n",
       "  </thead>\n",
       "  <tbody>\n",
       "    <tr>\n",
       "      <th>0</th>\n",
       "      <td>1</td>\n",
       "      <td>539.0</td>\n",
       "      <td>0</td>\n",
       "      <td>9</td>\n",
       "      <td>images/0001_A_H_0_A.jpg</td>\n",
       "    </tr>\n",
       "    <tr>\n",
       "      <th>1</th>\n",
       "      <td>2</td>\n",
       "      <td>622.0</td>\n",
       "      <td>0</td>\n",
       "      <td>5</td>\n",
       "      <td>images/0001_A_H_0_A.jpg</td>\n",
       "    </tr>\n",
       "    <tr>\n",
       "      <th>2</th>\n",
       "      <td>3</td>\n",
       "      <td>809.0</td>\n",
       "      <td>0</td>\n",
       "      <td>5</td>\n",
       "      <td>images/0001_A_H_0_A.jpg</td>\n",
       "    </tr>\n",
       "    <tr>\n",
       "      <th>3</th>\n",
       "      <td>4</td>\n",
       "      <td>30.0</td>\n",
       "      <td>100</td>\n",
       "      <td>5</td>\n",
       "      <td>images/0003_A_V_150_A.jpg</td>\n",
       "    </tr>\n",
       "    <tr>\n",
       "      <th>4</th>\n",
       "      <td>5</td>\n",
       "      <td>31.0</td>\n",
       "      <td>100</td>\n",
       "      <td>2</td>\n",
       "      <td>images/0003_A_V_150_A.jpg</td>\n",
       "    </tr>\n",
       "    <tr>\n",
       "      <th>...</th>\n",
       "      <td>...</td>\n",
       "      <td>...</td>\n",
       "      <td>...</td>\n",
       "      <td>...</td>\n",
       "      <td>...</td>\n",
       "    </tr>\n",
       "    <tr>\n",
       "      <th>33748</th>\n",
       "      <td>33749</td>\n",
       "      <td>1517.0</td>\n",
       "      <td>6502</td>\n",
       "      <td>5</td>\n",
       "      <td>images/0037_G_I_120_A.jpg</td>\n",
       "    </tr>\n",
       "    <tr>\n",
       "      <th>33749</th>\n",
       "      <td>33750</td>\n",
       "      <td>75.0</td>\n",
       "      <td>6502</td>\n",
       "      <td>5</td>\n",
       "      <td>images/0037_G_I_120_A.jpg</td>\n",
       "    </tr>\n",
       "    <tr>\n",
       "      <th>33750</th>\n",
       "      <td>33751</td>\n",
       "      <td>760.0</td>\n",
       "      <td>6502</td>\n",
       "      <td>5</td>\n",
       "      <td>images/0037_G_I_120_A.jpg</td>\n",
       "    </tr>\n",
       "    <tr>\n",
       "      <th>33751</th>\n",
       "      <td>33752</td>\n",
       "      <td>84.0</td>\n",
       "      <td>6502</td>\n",
       "      <td>5</td>\n",
       "      <td>images/0037_G_I_120_A.jpg</td>\n",
       "    </tr>\n",
       "    <tr>\n",
       "      <th>33752</th>\n",
       "      <td>33753</td>\n",
       "      <td>31.0</td>\n",
       "      <td>6502</td>\n",
       "      <td>5</td>\n",
       "      <td>images/0037_G_I_120_A.jpg</td>\n",
       "    </tr>\n",
       "  </tbody>\n",
       "</table>\n",
       "<p>33753 rows × 5 columns</p>\n",
       "</div>"
      ],
      "text/plain": [
       "       Annot_id    area  image_id  category                  file_name\n",
       "0             1   539.0         0         9    images/0001_A_H_0_A.jpg\n",
       "1             2   622.0         0         5    images/0001_A_H_0_A.jpg\n",
       "2             3   809.0         0         5    images/0001_A_H_0_A.jpg\n",
       "3             4    30.0       100         5  images/0003_A_V_150_A.jpg\n",
       "4             5    31.0       100         2  images/0003_A_V_150_A.jpg\n",
       "...         ...     ...       ...       ...                        ...\n",
       "33748     33749  1517.0      6502         5  images/0037_G_I_120_A.jpg\n",
       "33749     33750    75.0      6502         5  images/0037_G_I_120_A.jpg\n",
       "33750     33751   760.0      6502         5  images/0037_G_I_120_A.jpg\n",
       "33751     33752    84.0      6502         5  images/0037_G_I_120_A.jpg\n",
       "33752     33753    31.0      6502         5  images/0037_G_I_120_A.jpg\n",
       "\n",
       "[33753 rows x 5 columns]"
      ]
     },
     "execution_count": 16,
     "metadata": {},
     "output_type": "execute_result"
    }
   ],
   "source": [
    "merged_df = df.merge(image_df)\n",
    "merged_df"
   ]
  },
  {
   "cell_type": "code",
   "execution_count": 20,
   "id": "3b826057-3508-49b5-a56d-4c3eae1938f0",
   "metadata": {},
   "outputs": [
    {
     "data": {
      "text/plain": [
       "2690"
      ]
     },
     "execution_count": 20,
     "metadata": {},
     "output_type": "execute_result"
    }
   ],
   "source": [
    "files=merged_df['file_name'].unique().tolist()\n",
    "len(files)"
   ]
  },
  {
   "cell_type": "code",
   "execution_count": 18,
   "id": "bbea5ec0-3128-41ff-88d1-62dd3e4aee22",
   "metadata": {},
   "outputs": [
    {
     "data": {
      "text/html": [
       "<div>\n",
       "<style scoped>\n",
       "    .dataframe tbody tr th:only-of-type {\n",
       "        vertical-align: middle;\n",
       "    }\n",
       "\n",
       "    .dataframe tbody tr th {\n",
       "        vertical-align: top;\n",
       "    }\n",
       "\n",
       "    .dataframe thead th {\n",
       "        text-align: right;\n",
       "    }\n",
       "</style>\n",
       "<table border=\"1\" class=\"dataframe\">\n",
       "  <thead>\n",
       "    <tr style=\"text-align: right;\">\n",
       "      <th></th>\n",
       "      <th>Annot_id</th>\n",
       "      <th>area</th>\n",
       "      <th>image_id</th>\n",
       "      <th>category</th>\n",
       "      <th>file_name</th>\n",
       "    </tr>\n",
       "  </thead>\n",
       "  <tbody>\n",
       "    <tr>\n",
       "      <th>23781</th>\n",
       "      <td>23782</td>\n",
       "      <td>20.0</td>\n",
       "      <td>3407</td>\n",
       "      <td>2</td>\n",
       "      <td>images/0001_E_H_0_C.jpg</td>\n",
       "    </tr>\n",
       "    <tr>\n",
       "      <th>23782</th>\n",
       "      <td>23783</td>\n",
       "      <td>7.0</td>\n",
       "      <td>3407</td>\n",
       "      <td>2</td>\n",
       "      <td>images/0001_E_H_0_C.jpg</td>\n",
       "    </tr>\n",
       "    <tr>\n",
       "      <th>23783</th>\n",
       "      <td>23784</td>\n",
       "      <td>27.0</td>\n",
       "      <td>3407</td>\n",
       "      <td>5</td>\n",
       "      <td>images/0001_E_H_0_C.jpg</td>\n",
       "    </tr>\n",
       "    <tr>\n",
       "      <th>23784</th>\n",
       "      <td>23785</td>\n",
       "      <td>40.0</td>\n",
       "      <td>3407</td>\n",
       "      <td>2</td>\n",
       "      <td>images/0001_E_H_0_C.jpg</td>\n",
       "    </tr>\n",
       "    <tr>\n",
       "      <th>23785</th>\n",
       "      <td>23786</td>\n",
       "      <td>520.0</td>\n",
       "      <td>3407</td>\n",
       "      <td>2</td>\n",
       "      <td>images/0001_E_H_0_C.jpg</td>\n",
       "    </tr>\n",
       "    <tr>\n",
       "      <th>23786</th>\n",
       "      <td>23787</td>\n",
       "      <td>37.0</td>\n",
       "      <td>3407</td>\n",
       "      <td>2</td>\n",
       "      <td>images/0001_E_H_0_C.jpg</td>\n",
       "    </tr>\n",
       "    <tr>\n",
       "      <th>23787</th>\n",
       "      <td>23788</td>\n",
       "      <td>17.0</td>\n",
       "      <td>3407</td>\n",
       "      <td>2</td>\n",
       "      <td>images/0001_E_H_0_C.jpg</td>\n",
       "    </tr>\n",
       "    <tr>\n",
       "      <th>23788</th>\n",
       "      <td>23789</td>\n",
       "      <td>18.0</td>\n",
       "      <td>3407</td>\n",
       "      <td>2</td>\n",
       "      <td>images/0001_E_H_0_C.jpg</td>\n",
       "    </tr>\n",
       "    <tr>\n",
       "      <th>23789</th>\n",
       "      <td>23790</td>\n",
       "      <td>117.0</td>\n",
       "      <td>3407</td>\n",
       "      <td>5</td>\n",
       "      <td>images/0001_E_H_0_C.jpg</td>\n",
       "    </tr>\n",
       "    <tr>\n",
       "      <th>23790</th>\n",
       "      <td>23791</td>\n",
       "      <td>67.0</td>\n",
       "      <td>3407</td>\n",
       "      <td>2</td>\n",
       "      <td>images/0001_E_H_0_C.jpg</td>\n",
       "    </tr>\n",
       "    <tr>\n",
       "      <th>23791</th>\n",
       "      <td>23792</td>\n",
       "      <td>10.0</td>\n",
       "      <td>3407</td>\n",
       "      <td>2</td>\n",
       "      <td>images/0001_E_H_0_C.jpg</td>\n",
       "    </tr>\n",
       "    <tr>\n",
       "      <th>23792</th>\n",
       "      <td>23793</td>\n",
       "      <td>145.0</td>\n",
       "      <td>3407</td>\n",
       "      <td>9</td>\n",
       "      <td>images/0001_E_H_0_C.jpg</td>\n",
       "    </tr>\n",
       "    <tr>\n",
       "      <th>23793</th>\n",
       "      <td>23794</td>\n",
       "      <td>6.0</td>\n",
       "      <td>3407</td>\n",
       "      <td>2</td>\n",
       "      <td>images/0001_E_H_0_C.jpg</td>\n",
       "    </tr>\n",
       "    <tr>\n",
       "      <th>23794</th>\n",
       "      <td>23795</td>\n",
       "      <td>57.0</td>\n",
       "      <td>3407</td>\n",
       "      <td>2</td>\n",
       "      <td>images/0001_E_H_0_C.jpg</td>\n",
       "    </tr>\n",
       "    <tr>\n",
       "      <th>23795</th>\n",
       "      <td>23796</td>\n",
       "      <td>197.0</td>\n",
       "      <td>3407</td>\n",
       "      <td>5</td>\n",
       "      <td>images/0001_E_H_0_C.jpg</td>\n",
       "    </tr>\n",
       "    <tr>\n",
       "      <th>23796</th>\n",
       "      <td>23797</td>\n",
       "      <td>9.0</td>\n",
       "      <td>3407</td>\n",
       "      <td>2</td>\n",
       "      <td>images/0001_E_H_0_C.jpg</td>\n",
       "    </tr>\n",
       "    <tr>\n",
       "      <th>23797</th>\n",
       "      <td>23798</td>\n",
       "      <td>4.0</td>\n",
       "      <td>3407</td>\n",
       "      <td>2</td>\n",
       "      <td>images/0001_E_H_0_C.jpg</td>\n",
       "    </tr>\n",
       "    <tr>\n",
       "      <th>23798</th>\n",
       "      <td>23799</td>\n",
       "      <td>7.0</td>\n",
       "      <td>3407</td>\n",
       "      <td>2</td>\n",
       "      <td>images/0001_E_H_0_C.jpg</td>\n",
       "    </tr>\n",
       "    <tr>\n",
       "      <th>23799</th>\n",
       "      <td>23800</td>\n",
       "      <td>150.0</td>\n",
       "      <td>3407</td>\n",
       "      <td>5</td>\n",
       "      <td>images/0001_E_H_0_C.jpg</td>\n",
       "    </tr>\n",
       "    <tr>\n",
       "      <th>23800</th>\n",
       "      <td>23801</td>\n",
       "      <td>215.0</td>\n",
       "      <td>3407</td>\n",
       "      <td>5</td>\n",
       "      <td>images/0001_E_H_0_C.jpg</td>\n",
       "    </tr>\n",
       "    <tr>\n",
       "      <th>23801</th>\n",
       "      <td>23802</td>\n",
       "      <td>7.0</td>\n",
       "      <td>3407</td>\n",
       "      <td>2</td>\n",
       "      <td>images/0001_E_H_0_C.jpg</td>\n",
       "    </tr>\n",
       "  </tbody>\n",
       "</table>\n",
       "</div>"
      ],
      "text/plain": [
       "       Annot_id   area  image_id  category                file_name\n",
       "23781     23782   20.0      3407         2  images/0001_E_H_0_C.jpg\n",
       "23782     23783    7.0      3407         2  images/0001_E_H_0_C.jpg\n",
       "23783     23784   27.0      3407         5  images/0001_E_H_0_C.jpg\n",
       "23784     23785   40.0      3407         2  images/0001_E_H_0_C.jpg\n",
       "23785     23786  520.0      3407         2  images/0001_E_H_0_C.jpg\n",
       "23786     23787   37.0      3407         2  images/0001_E_H_0_C.jpg\n",
       "23787     23788   17.0      3407         2  images/0001_E_H_0_C.jpg\n",
       "23788     23789   18.0      3407         2  images/0001_E_H_0_C.jpg\n",
       "23789     23790  117.0      3407         5  images/0001_E_H_0_C.jpg\n",
       "23790     23791   67.0      3407         2  images/0001_E_H_0_C.jpg\n",
       "23791     23792   10.0      3407         2  images/0001_E_H_0_C.jpg\n",
       "23792     23793  145.0      3407         9  images/0001_E_H_0_C.jpg\n",
       "23793     23794    6.0      3407         2  images/0001_E_H_0_C.jpg\n",
       "23794     23795   57.0      3407         2  images/0001_E_H_0_C.jpg\n",
       "23795     23796  197.0      3407         5  images/0001_E_H_0_C.jpg\n",
       "23796     23797    9.0      3407         2  images/0001_E_H_0_C.jpg\n",
       "23797     23798    4.0      3407         2  images/0001_E_H_0_C.jpg\n",
       "23798     23799    7.0      3407         2  images/0001_E_H_0_C.jpg\n",
       "23799     23800  150.0      3407         5  images/0001_E_H_0_C.jpg\n",
       "23800     23801  215.0      3407         5  images/0001_E_H_0_C.jpg\n",
       "23801     23802    7.0      3407         2  images/0001_E_H_0_C.jpg"
      ]
     },
     "execution_count": 18,
     "metadata": {},
     "output_type": "execute_result"
    }
   ],
   "source": [
    "merged_df[merged_df['file_name']==\"images/0001_E_H_0_C.jpg\"]"
   ]
  },
  {
   "cell_type": "code",
   "execution_count": 46,
   "id": "269bf8e4",
   "metadata": {},
   "outputs": [
    {
     "data": {
      "text/html": [
       "<div>\n",
       "<style scoped>\n",
       "    .dataframe tbody tr th:only-of-type {\n",
       "        vertical-align: middle;\n",
       "    }\n",
       "\n",
       "    .dataframe tbody tr th {\n",
       "        vertical-align: top;\n",
       "    }\n",
       "\n",
       "    .dataframe thead th {\n",
       "        text-align: right;\n",
       "    }\n",
       "</style>\n",
       "<table border=\"1\" class=\"dataframe\">\n",
       "  <thead>\n",
       "    <tr style=\"text-align: right;\">\n",
       "      <th></th>\n",
       "      <th>Annot_id</th>\n",
       "      <th>area</th>\n",
       "      <th>image_id</th>\n",
       "    </tr>\n",
       "    <tr>\n",
       "      <th>category</th>\n",
       "      <th></th>\n",
       "      <th></th>\n",
       "      <th></th>\n",
       "    </tr>\n",
       "  </thead>\n",
       "  <tbody>\n",
       "    <tr>\n",
       "      <th>2</th>\n",
       "      <td>356868</td>\n",
       "      <td>826.0</td>\n",
       "      <td>51105</td>\n",
       "    </tr>\n",
       "    <tr>\n",
       "      <th>5</th>\n",
       "      <td>118971</td>\n",
       "      <td>706.0</td>\n",
       "      <td>17035</td>\n",
       "    </tr>\n",
       "    <tr>\n",
       "      <th>9</th>\n",
       "      <td>23793</td>\n",
       "      <td>145.0</td>\n",
       "      <td>3407</td>\n",
       "    </tr>\n",
       "  </tbody>\n",
       "</table>\n",
       "</div>"
      ],
      "text/plain": [
       "          Annot_id   area  image_id\n",
       "category                           \n",
       "2           356868  826.0     51105\n",
       "5           118971  706.0     17035\n",
       "9            23793  145.0      3407"
      ]
     },
     "execution_count": 46,
     "metadata": {},
     "output_type": "execute_result"
    }
   ],
   "source": [
    "merged_df[merged_df['file_name']==\"images/0001_E_H_0_C.jpg\"].groupby('category').sum('area')"
   ]
  },
  {
   "cell_type": "markdown",
   "id": "19c5b777-b24a-4368-b6ad-612477c57796",
   "metadata": {},
   "source": [
    "## Split the data into train and test set (ration 70:30) ##"
   ]
  },
  {
   "cell_type": "code",
   "execution_count": 59,
   "id": "e0198263-cc0a-427e-8899-595d18142b99",
   "metadata": {},
   "outputs": [],
   "source": [
    "import random\n",
    "random.seed(2)\n",
    "random.shuffle(files)\n",
    "train_img = files[:int((len(files)+1)*.70)] \n",
    "test_img= files[int((len(files)+1)*.70):] "
   ]
  },
  {
   "cell_type": "markdown",
   "id": "0084de2c-8307-4b91-aac7-f8e2f8abe93b",
   "metadata": {},
   "source": [
    "## Create Function to classify unhealthy and healthy lemon images ##"
   ]
  },
  {
   "cell_type": "code",
   "execution_count": 60,
   "id": "935827dc-6c2f-4f8d-a6aa-d2db5199938a",
   "metadata": {},
   "outputs": [],
   "source": [
    "def classify_category(merged_df,file_name):\n",
    "    targeted=merged_df.loc[merged_df['file_name'] == file_name].groupby('category').sum('area')\n",
    "    result=[]\n",
    "    for idx in targeted.index:\n",
    "        if idx in [2,3,4]:\n",
    "            result.append(True)\n",
    "        else:\n",
    "            result.append(False)\n",
    "    if any(result):\n",
    "        return(\"Unhealthy_lemon\")\n",
    "    else:\n",
    "        return(\"Healthy_lemon\")\n"
   ]
  },
  {
   "cell_type": "markdown",
   "id": "ef8cd151-b9e3-4885-82b0-fe0941abaa08",
   "metadata": {},
   "source": [
    "## Loop through each lemon image and allocate it into categorised folder ##"
   ]
  },
  {
   "cell_type": "code",
   "execution_count": 61,
   "id": "ed9158c1-56fb-4c95-a817-9b5305c37476",
   "metadata": {},
   "outputs": [],
   "source": [
    "for file in train_img:\n",
    "        shutil.copy2(f\"raw_data/lemon-dataset/{file}\",f\"raw_data/lemon-dataset/classified_images/Train_lemon/{classify_category(merged_df,file)}/{file.split('/')[-1]}\")"
   ]
  },
  {
   "cell_type": "code",
   "execution_count": 62,
   "id": "5dc82c04-1f6f-4b56-8a22-6ed1a33a2bf0",
   "metadata": {},
   "outputs": [],
   "source": [
    "for file in test_img:\n",
    "    shutil.copy2(f\"raw_data/lemon-dataset/{file}\",f\"raw_data/lemon-dataset/classified_images/Test_lemon/{classify_category(merged_df,file)}/{file.split('/')[-1]}\")"
   ]
  },
  {
   "cell_type": "code",
   "execution_count": 63,
   "id": "8af1a366-6545-466a-b297-d604d56e5066",
   "metadata": {},
   "outputs": [],
   "source": [
    "Train_unhealthy=len(os.listdir(\"raw_data/lemon-dataset/classified_images/Train_lemon/Unhealthy_lemon\"))\n",
    "Train_healthy=len(os.listdir(\"raw_data/lemon-dataset/classified_images/Train_lemon/Healthy_lemon\"))\n",
    "Test_unhealthy=len(os.listdir(\"raw_data/lemon-dataset/classified_images/Test_lemon/Unhealthy_lemon\"))\n",
    "Test_healthy=len(os.listdir(\"raw_data/lemon-dataset/classified_images/Test_lemon/Healthy_lemon\"))"
   ]
  },
  {
   "cell_type": "code",
   "execution_count": 64,
   "id": "5e5cbfdc-0879-4e45-83ce-107d3e3302dc",
   "metadata": {},
   "outputs": [
    {
     "name": "stdout",
     "output_type": "stream",
     "text": [
      "Total number of train unhealthy lemon:1358\n",
      "Total number of train healthy lemon:527\n",
      "Total number of test unhealthy lemon:594\n",
      "Total number of test healthy lemon:215\n"
     ]
    }
   ],
   "source": [
    "print(f\"Total number of train unhealthy lemon:{Train_unhealthy}\")\n",
    "print(f\"Total number of train healthy lemon:{Train_healthy}\")\n",
    "print(f\"Total number of test unhealthy lemon:{Test_unhealthy}\")\n",
    "print(f\"Total number of test healthy lemon:{Test_healthy}\")\n"
   ]
  },
  {
   "cell_type": "code",
   "execution_count": 65,
   "id": "692df1c0-aa45-4713-b241-a5883196ef97",
   "metadata": {},
   "outputs": [
    {
     "data": {
      "text/plain": [
       "2694"
      ]
     },
     "execution_count": 65,
     "metadata": {},
     "output_type": "execute_result"
    }
   ],
   "source": [
    "sum([Train_unhealthy, Train_healthy, Test_unhealthy, Test_healthy])"
   ]
  },
  {
   "cell_type": "code",
   "execution_count": null,
   "id": "0c1af994-3558-40bb-8191-16f33f487c84",
   "metadata": {},
   "outputs": [],
   "source": []
  }
 ],
 "metadata": {
  "kernelspec": {
   "display_name": "Python 3.8.13 64-bit ('shims')",
   "language": "python",
   "name": "python3"
  },
  "language_info": {
   "codemirror_mode": {
    "name": "ipython",
    "version": 3
   },
   "file_extension": ".py",
   "mimetype": "text/x-python",
   "name": "python",
   "nbconvert_exporter": "python",
   "pygments_lexer": "ipython3",
   "version": "3.8.13"
  },
  "toc": {
   "base_numbering": 1,
   "nav_menu": {},
   "number_sections": true,
   "sideBar": true,
   "skip_h1_title": false,
   "title_cell": "Table of Contents",
   "title_sidebar": "Contents",
   "toc_cell": false,
   "toc_position": {},
   "toc_section_display": true,
   "toc_window_display": false
  },
  "vscode": {
   "interpreter": {
    "hash": "ae1134f6d9ee0dfb6cb7f77f7114606188c638f8a8facccdc24e2ccb11b8a8d4"
   }
  }
 },
 "nbformat": 4,
 "nbformat_minor": 5
}
