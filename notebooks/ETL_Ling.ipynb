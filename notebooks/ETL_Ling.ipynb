{
 "cells": [
  {
   "cell_type": "markdown",
   "id": "17347330",
   "metadata": {},
   "source": [
    "##  Import Packages"
   ]
  },
  {
   "cell_type": "code",
   "execution_count": 1,
   "id": "f5a35241",
   "metadata": {},
   "outputs": [],
   "source": [
    "import json\n",
    "import pandas as pd\n",
    "import matplotlib.pyplot as plt\n",
    "import shutil\n",
    "import numpy as np\n",
    "import os"
   ]
  },
  {
   "cell_type": "code",
   "execution_count": 1,
   "id": "5b3cb4b8",
   "metadata": {},
   "outputs": [
    {
     "name": "stdout",
     "output_type": "stream",
     "text": [
      "absl-py==1.2.0\n",
      "aiobotocore==2.3.4\n",
      "aiohttp==3.8.1\n",
      "aioitertools==0.10.0\n",
      "aiosignal==1.2.0\n",
      "alembic==1.8.1\n",
      "anyio==3.6.1\n",
      "appnope==0.1.3\n",
      "argon2-cffi==21.3.0\n",
      "argon2-cffi-bindings==21.2.0\n",
      "asttokens==2.0.5\n",
      "astunparse==1.6.3\n",
      "async-timeout==4.0.2\n",
      "attrs==22.1.0\n",
      "Babel==2.10.3\n",
      "backcall==0.2.0\n",
      "beautifulsoup4==4.11.1\n",
      "black==22.6.0\n",
      "bleach==5.0.1\n",
      "botocore==1.24.21\n",
      "cachetools==5.2.0\n",
      "certifi==2022.6.15\n",
      "cffi==1.15.1\n",
      "charset-normalizer==2.1.0\n",
      "click==8.1.3\n",
      "cloudpickle==2.1.0\n",
      "commonmark==0.9.1\n",
      "coverage==6.4.3\n",
      "cycler==0.11.0\n",
      "databricks-cli==0.17.0\n",
      "debugpy==1.6.2\n",
      "decorator==5.1.1\n",
      "defusedxml==0.7.1\n",
      "docker==5.0.3\n",
      "docutils==0.19\n",
      "entrypoints==0.4\n",
      "executing==0.9.1\n",
      "fastapi==0.79.0\n",
      "fastjsonschema==2.16.1\n",
      "flake8==5.0.4\n",
      "Flask==2.2.2\n",
      "flatbuffers==1.12\n",
      "fonttools==4.34.4\n",
      "frozenlist==1.3.1\n",
      "fsspec==2022.7.1\n",
      "gast==0.4.0\n",
      "gcsfs==2022.7.1\n",
      "gitdb==4.0.9\n",
      "GitPython==3.1.27\n",
      "google-api-core==2.8.2\n",
      "google-auth==2.10.0\n",
      "google-auth-oauthlib==0.4.6\n",
      "google-cloud-core==2.3.2\n",
      "google-cloud-storage==2.5.0\n",
      "google-crc32c==1.3.0\n",
      "google-pasta==0.2.0\n",
      "google-resumable-media==2.3.3\n",
      "googleapis-common-protos==1.56.4\n",
      "greenlet==1.1.2\n",
      "grpcio==1.47.0\n",
      "gunicorn==20.1.0\n",
      "h11==0.13.0\n",
      "h5py==3.7.0\n",
      "idna==3.3\n",
      "importlib-metadata==4.12.0\n",
      "importlib-resources==5.9.0\n",
      "iniconfig==1.1.1\n",
      "ipykernel==6.15.1\n",
      "ipython==8.4.0\n",
      "ipython-genutils==0.2.0\n",
      "itsdangerous==2.1.2\n",
      "jedi==0.18.1\n",
      "Jinja2==3.1.2\n",
      "jmespath==1.0.1\n",
      "joblib==1.1.0\n",
      "json5==0.9.9\n",
      "jsonschema==4.9.0\n",
      "jupyter-client==7.3.4\n",
      "jupyter-core==4.11.1\n",
      "jupyter-server==1.18.1\n",
      "jupyterlab==3.4.4\n",
      "jupyterlab-pygments==0.2.2\n",
      "jupyterlab-server==2.15.0\n",
      "keras==2.9.0\n",
      "Keras-Preprocessing==1.1.2\n",
      "keyring==23.8.2\n",
      "kiwisolver==1.4.4\n",
      "libclang==14.0.6\n",
      "Mako==1.2.1\n",
      "Markdown==3.4.1\n",
      "MarkupSafe==2.1.1\n",
      "matplotlib==3.5.2\n",
      "matplotlib-inline==0.1.3\n",
      "mccabe==0.7.0\n",
      "memoized-property==1.0.3\n",
      "mistune==0.8.4\n",
      "mlflow==1.27.0\n",
      "multidict==6.0.2\n",
      "mypy-extensions==0.4.3\n",
      "nbclassic==0.4.3\n",
      "nbclient==0.6.6\n",
      "nbconvert==6.5.0\n",
      "nbformat==5.4.0\n",
      "nest-asyncio==1.5.5\n",
      "notebook==6.4.12\n",
      "notebook-shim==0.1.0\n",
      "numpy==1.23.1\n",
      "oauthlib==3.2.0\n",
      "opt-einsum==3.3.0\n",
      "packaging==21.3\n",
      "pandas==1.4.3\n",
      "pandocfilters==1.5.0\n",
      "parso==0.8.3\n",
      "pathspec==0.9.0\n",
      "pexpect==4.8.0\n",
      "pickleshare==0.7.5\n",
      "Pillow==9.2.0\n",
      "pkginfo==1.8.3\n",
      "pkgutil_resolve_name==1.3.10\n",
      "platformdirs==2.5.2\n",
      "pluggy==1.0.0\n",
      "prometheus-client==0.14.1\n",
      "prometheus-flask-exporter==0.20.3\n",
      "prompt-toolkit==3.0.30\n",
      "protobuf==3.19.4\n",
      "psutil==5.9.1\n",
      "ptyprocess==0.7.0\n",
      "pure-eval==0.2.2\n",
      "py==1.11.0\n",
      "pyasn1==0.4.8\n",
      "pyasn1-modules==0.2.8\n",
      "pycocotools==2.0.4\n",
      "pycodestyle==2.9.1\n",
      "pycparser==2.21\n",
      "pydantic==1.9.1\n",
      "pyflakes==2.5.0\n",
      "Pygments==2.12.0\n",
      "PyJWT==2.4.0\n",
      "pyparsing==3.0.9\n",
      "pyrsistent==0.18.1\n",
      "pytest==7.1.2\n",
      "python-dateutil==2.8.2\n",
      "pytz==2022.1\n",
      "PyYAML==6.0\n",
      "pyzmq==23.2.0\n",
      "querystring-parser==1.2.4\n",
      "readme-renderer==36.0\n",
      "requests==2.28.1\n",
      "requests-oauthlib==1.3.1\n",
      "requests-toolbelt==0.9.1\n",
      "rfc3986==2.0.0\n",
      "rich==12.5.1\n",
      "rsa==4.9\n",
      "s3fs==2022.7.1\n",
      "scikit-learn==1.1.2\n",
      "scipy==1.9.0\n",
      "Send2Trash==1.8.0\n",
      "six==1.16.0\n",
      "smmap==5.0.0\n",
      "sniffio==1.2.0\n",
      "soupsieve==2.3.2.post1\n",
      "SQLAlchemy==1.4.40\n",
      "sqlparse==0.4.2\n",
      "stack-data==0.3.0\n",
      "starlette==0.19.1\n",
      "tabulate==0.8.10\n",
      "tensorboard==2.9.1\n",
      "tensorboard-data-server==0.6.1\n",
      "tensorboard-plugin-wit==1.8.1\n",
      "tensorflow-estimator==2.9.0\n",
      "tensorflow-macos==2.9.2\n",
      "termcolor==1.1.0\n",
      "terminado==0.15.0\n",
      "threadpoolctl==3.1.0\n",
      "tinycss2==1.1.1\n",
      "tomli==2.0.1\n",
      "tornado==6.2\n",
      "traitlets==5.3.0\n",
      "twine==4.0.1\n",
      "typing_extensions==4.3.0\n",
      "urllib3==1.26.11\n",
      "uvicorn==0.18.2\n",
      "wcwidth==0.2.5\n",
      "webencodings==0.5.1\n",
      "websocket-client==1.3.3\n",
      "Werkzeug==2.2.2\n",
      "wrapt==1.14.1\n",
      "yapf==0.32.0\n",
      "yarl==1.8.1\n",
      "zipp==3.8.1\n",
      "Note: you may need to restart the kernel to use updated packages.\n"
     ]
    }
   ],
   "source": [
    "pip freeze"
   ]
  },
  {
   "cell_type": "code",
   "execution_count": 1,
   "id": "8fc1f533",
   "metadata": {},
   "outputs": [
    {
     "ename": "ModuleNotFoundError",
     "evalue": "No module named 'tensorlfow'",
     "output_type": "error",
     "traceback": [
      "\u001b[0;31m---------------------------------------------------------------------------\u001b[0m",
      "\u001b[0;31mModuleNotFoundError\u001b[0m                       Traceback (most recent call last)",
      "Input \u001b[0;32mIn [1]\u001b[0m, in \u001b[0;36m<cell line: 2>\u001b[0;34m()\u001b[0m\n\u001b[1;32m      1\u001b[0m \u001b[38;5;28;01mfrom\u001b[39;00m \u001b[38;5;21;01mtensorflow\u001b[39;00m\u001b[38;5;21;01m.\u001b[39;00m\u001b[38;5;21;01mkeras\u001b[39;00m \u001b[38;5;28;01mimport\u001b[39;00m utils, layers, models\n\u001b[0;32m----> 2\u001b[0m \u001b[38;5;28;01mfrom\u001b[39;00m \u001b[38;5;21;01mtensorlfow\u001b[39;00m\u001b[38;5;21;01m.\u001b[39;00m\u001b[38;5;21;01mkeras\u001b[39;00m\u001b[38;5;21;01m.\u001b[39;00m\u001b[38;5;21;01mbackend\u001b[39;00m \u001b[38;5;28;01mimport\u001b[39;00m expand_dims\n",
      "\u001b[0;31mModuleNotFoundError\u001b[0m: No module named 'tensorlfow'"
     ]
    }
   ],
   "source": [
    "from tensorflow.keras import utils, layers, models\n",
    "# from tensorflow.keras.backend import expand_dims"
   ]
  },
  {
   "cell_type": "markdown",
   "id": "0933b57c",
   "metadata": {},
   "source": [
    "## Explore Data"
   ]
  },
  {
   "cell_type": "code",
   "execution_count": null,
   "id": "9e850760",
   "metadata": {},
   "outputs": [],
   "source": [
    "data = json.load(open(\"../raw_data/annotations/instances_default.json\"))"
   ]
  },
  {
   "cell_type": "code",
   "execution_count": null,
   "id": "1498d45f",
   "metadata": {},
   "outputs": [],
   "source": [
    "data"
   ]
  },
  {
   "cell_type": "code",
   "execution_count": null,
   "id": "29317452",
   "metadata": {},
   "outputs": [],
   "source": [
    "data.keys()"
   ]
  },
  {
   "cell_type": "code",
   "execution_count": null,
   "id": "03d9bf7c",
   "metadata": {},
   "outputs": [],
   "source": [
    "# data['info']"
   ]
  },
  {
   "cell_type": "code",
   "execution_count": null,
   "id": "893fa16c",
   "metadata": {},
   "outputs": [],
   "source": [
    "# data['images'][:2]"
   ]
  },
  {
   "cell_type": "code",
   "execution_count": null,
   "id": "09522d2f",
   "metadata": {},
   "outputs": [],
   "source": [
    "# data['images'][-3:-1]"
   ]
  },
  {
   "cell_type": "code",
   "execution_count": null,
   "id": "b8055947",
   "metadata": {},
   "outputs": [],
   "source": [
    "# for image in data['images']:\n",
    "#     if image['id']==3400 or image['id']==2166:\n",
    "#         print('file name', image['file_name'])"
   ]
  },
  {
   "cell_type": "code",
   "execution_count": null,
   "id": "8f70f4a2",
   "metadata": {},
   "outputs": [],
   "source": [
    "from IPython.display import Image, display\n",
    "\n",
    "Image1 = '../raw_data/images/0001_A_H_0_A.jpg'\n",
    "display(Image(Image1))\n",
    "# for imageName in listOfImageNames:\n",
    "#     display(Image(filename=imageName))"
   ]
  },
  {
   "cell_type": "code",
   "execution_count": null,
   "id": "507e0b12",
   "metadata": {},
   "outputs": [],
   "source": [
    "dict_keys=['licenses', 'info', 'annotations', 'images', 'categories']"
   ]
  },
  {
   "cell_type": "code",
   "execution_count": null,
   "id": "22fd2683",
   "metadata": {},
   "outputs": [],
   "source": [
    "type(data['annotations'])"
   ]
  },
  {
   "cell_type": "code",
   "execution_count": null,
   "id": "74134095",
   "metadata": {},
   "outputs": [],
   "source": [
    "len(data['annotations'])"
   ]
  },
  {
   "cell_type": "code",
   "execution_count": null,
   "id": "adf2f4f6",
   "metadata": {},
   "outputs": [],
   "source": [
    "len(data['images'])"
   ]
  },
  {
   "cell_type": "code",
   "execution_count": null,
   "id": "f9ab74b5",
   "metadata": {},
   "outputs": [],
   "source": [
    "data['annotations'][10:12]"
   ]
  },
  {
   "cell_type": "code",
   "execution_count": null,
   "id": "0ed2bdac",
   "metadata": {},
   "outputs": [],
   "source": [
    "data['annotations'][0]['category_id']"
   ]
  },
  {
   "cell_type": "code",
   "execution_count": null,
   "id": "5fa366f2",
   "metadata": {},
   "outputs": [],
   "source": [
    "annotations = data['annotations']"
   ]
  },
  {
   "cell_type": "code",
   "execution_count": null,
   "id": "e68fece6",
   "metadata": {
    "scrolled": true
   },
   "outputs": [],
   "source": [
    "for dicts in annotations:\n",
    "#     print('id',dicts['id'],'image_id', dicts['image_id'],'category',dicts['category_id'])\n",
    "    \n",
    "    if dicts['category_id'] == 8:\n",
    "        print('healthy',dicts['image_id'])"
   ]
  },
  {
   "cell_type": "markdown",
   "id": "3568b87c",
   "metadata": {},
   "source": [
    "## Merge Category with image #\n",
    "Found multiple categories PER image\n",
    "Only 2 images had category =8 meaning 'healthy' and those are image_id 2166 & 3400 but these images have other categories as well"
   ]
  },
  {
   "cell_type": "code",
   "execution_count": null,
   "id": "adf0d3be",
   "metadata": {},
   "outputs": [],
   "source": [
    "data['categories']"
   ]
  },
  {
   "cell_type": "code",
   "execution_count": null,
   "id": "29ee35d4",
   "metadata": {},
   "outputs": [],
   "source": [
    "rows = [[dicts['id'],dicts['area'], dicts['image_id'],dicts['category_id']] for dicts in annotations]"
   ]
  },
  {
   "cell_type": "code",
   "execution_count": null,
   "id": "1272b3a5",
   "metadata": {},
   "outputs": [],
   "source": [
    "df = pd.DataFrame(rows, columns=[\"Annot_id\",\"area\",\"image_id\",\"category\"])\n",
    "df"
   ]
  },
  {
   "cell_type": "code",
   "execution_count": null,
   "id": "d22faa6e",
   "metadata": {
    "scrolled": true
   },
   "outputs": [],
   "source": [
    "df.groupby(['image_id']).size().hist()"
   ]
  },
  {
   "cell_type": "code",
   "execution_count": null,
   "id": "93d8ff91",
   "metadata": {},
   "outputs": [],
   "source": [
    "category_ = df.groupby('image_id').apply(lambda group: group['category'].unique())"
   ]
  },
  {
   "cell_type": "code",
   "execution_count": null,
   "id": "c2a886b7",
   "metadata": {},
   "outputs": [],
   "source": [
    "category_.map(sorted)\n",
    "    "
   ]
  },
  {
   "cell_type": "code",
   "execution_count": null,
   "id": "a7a88402",
   "metadata": {},
   "outputs": [],
   "source": [
    "len(df['image_id'].unique())"
   ]
  },
  {
   "cell_type": "code",
   "execution_count": null,
   "id": "e657fb34",
   "metadata": {},
   "outputs": [],
   "source": [
    "plt.hist(df['category']);"
   ]
  },
  {
   "cell_type": "code",
   "execution_count": null,
   "id": "ea071414",
   "metadata": {},
   "outputs": [],
   "source": [
    "len(data['licenses'])"
   ]
  },
  {
   "cell_type": "code",
   "execution_count": null,
   "id": "1c76e0dd",
   "metadata": {},
   "outputs": [],
   "source": [
    "len(data['info'])"
   ]
  },
  {
   "cell_type": "code",
   "execution_count": null,
   "id": "85f51ba9",
   "metadata": {},
   "outputs": [],
   "source": [
    "df[df['image_id']==100]"
   ]
  },
  {
   "cell_type": "code",
   "execution_count": null,
   "id": "a95ac559",
   "metadata": {},
   "outputs": [],
   "source": [
    "images = data['images']\n",
    "images"
   ]
  },
  {
   "cell_type": "code",
   "execution_count": null,
   "id": "7ee0f513",
   "metadata": {},
   "outputs": [],
   "source": [
    "image_rows = [[image['id'],image['file_name']] for image in images]"
   ]
  },
  {
   "cell_type": "code",
   "execution_count": null,
   "id": "461b1cce",
   "metadata": {},
   "outputs": [],
   "source": [
    "image_df = pd.DataFrame(image_rows, columns = ['image_id','file_name'])\n",
    "image_df"
   ]
  },
  {
   "cell_type": "code",
   "execution_count": null,
   "id": "7dd99483",
   "metadata": {},
   "outputs": [],
   "source": [
    "merged_df = df.merge(image_df)\n",
    "merged_df"
   ]
  },
  {
   "cell_type": "code",
   "execution_count": null,
   "id": "e2f40464",
   "metadata": {},
   "outputs": [],
   "source": [
    "merged_df[merged_df['file_name']==\"images/0002_G_I_45_A.jpg\"]"
   ]
  },
  {
   "cell_type": "code",
   "execution_count": null,
   "id": "6e086c4b",
   "metadata": {},
   "outputs": [],
   "source": [
    "merged_df[merged_df['file_name']==\"images/0002_G_I_45_A.jpg\"].groupby('category').sum('area')"
   ]
  },
  {
   "cell_type": "code",
   "execution_count": null,
   "id": "72751c88",
   "metadata": {},
   "outputs": [],
   "source": [
    "merged_df[merged_df['file_name']==\"images/0001_E_H_0_C.jpg\"]"
   ]
  },
  {
   "cell_type": "code",
   "execution_count": null,
   "id": "d3f45a0e",
   "metadata": {},
   "outputs": [],
   "source": [
    "merged_df[merged_df['file_name']==\"images/0001_E_H_0_C.jpg\"].groupby('category').sum('area')"
   ]
  },
  {
   "cell_type": "code",
   "execution_count": null,
   "id": "1a9a26b4",
   "metadata": {},
   "outputs": [],
   "source": [
    "files=merged_df['file_name'].unique().tolist()\n",
    "len(files)"
   ]
  },
  {
   "cell_type": "code",
   "execution_count": null,
   "id": "a649044e",
   "metadata": {},
   "outputs": [],
   "source": [
    "files"
   ]
  },
  {
   "cell_type": "markdown",
   "id": "a9e39f7f",
   "metadata": {},
   "source": [
    "## Split the images into Train and Test sets"
   ]
  },
  {
   "cell_type": "code",
   "execution_count": null,
   "id": "ab4eb790",
   "metadata": {},
   "outputs": [],
   "source": [
    "import random\n",
    "random.seed(2)\n",
    "random.shuffle(files)\n",
    "\n",
    "train_img = files[:int(len(files)*.70)] \n",
    "\n",
    "test_img= files[int(len(files)*.70):] "
   ]
  },
  {
   "cell_type": "code",
   "execution_count": 2,
   "id": "6ff40174",
   "metadata": {},
   "outputs": [
    {
     "data": {
      "text/plain": [
       "([1, 2], [2688, 2689, 2690])"
      ]
     },
     "execution_count": 2,
     "metadata": {},
     "output_type": "execute_result"
    }
   ],
   "source": [
    "list1=list(range(1,2691,1))\n",
    "list1[:2],list1[-3:]"
   ]
  },
  {
   "cell_type": "code",
   "execution_count": 3,
   "id": "9a8988f2",
   "metadata": {},
   "outputs": [],
   "source": [
    "train=int(len(list1)*0.7)"
   ]
  },
  {
   "cell_type": "code",
   "execution_count": 8,
   "id": "781edffb",
   "metadata": {},
   "outputs": [
    {
     "data": {
      "text/plain": [
       "1883"
      ]
     },
     "execution_count": 8,
     "metadata": {},
     "output_type": "execute_result"
    }
   ],
   "source": [
    "train_list = list1[:train+1]\n",
    "train_list[-1]"
   ]
  },
  {
   "cell_type": "code",
   "execution_count": 9,
   "id": "4f6ca86c",
   "metadata": {},
   "outputs": [
    {
     "data": {
      "text/plain": [
       "1883"
      ]
     },
     "execution_count": 9,
     "metadata": {},
     "output_type": "execute_result"
    }
   ],
   "source": [
    "len(train_list)"
   ]
  },
  {
   "cell_type": "code",
   "execution_count": 11,
   "id": "41b91a55",
   "metadata": {},
   "outputs": [
    {
     "data": {
      "text/plain": [
       "(2690, [1884, 1885])"
      ]
     },
     "execution_count": 11,
     "metadata": {},
     "output_type": "execute_result"
    }
   ],
   "source": [
    "test_list = list1[train+1:]\n",
    "test_list[-1], test_list[:2]"
   ]
  },
  {
   "cell_type": "code",
   "execution_count": 6,
   "id": "fd75ea2b",
   "metadata": {},
   "outputs": [
    {
     "data": {
      "text/plain": [
       "808"
      ]
     },
     "execution_count": 6,
     "metadata": {},
     "output_type": "execute_result"
    }
   ],
   "source": [
    "len(test_list)"
   ]
  },
  {
   "cell_type": "markdown",
   "id": "2383e9ef",
   "metadata": {},
   "source": [
    "## Create Function to classify unhealthy and healthy lemon images"
   ]
  },
  {
   "cell_type": "code",
   "execution_count": null,
   "id": "fc945fb2",
   "metadata": {},
   "outputs": [],
   "source": [
    "def classify_category(merged_df,file_name):\n",
    "    targeted=merged_df.loc[merged_df['file_name'] == file_name].groupby('category').sum('area')\n",
    "    result=[]\n",
    "    for idx in targeted.index:\n",
    "        if idx in [2,3,4]:\n",
    "            result.append(True)\n",
    "        else:\n",
    "            result.append(False)\n",
    "    if any(result):\n",
    "        return(\"Unhealthy_lemon\")\n",
    "    else:\n",
    "        return(\"Healthy_lemon\")"
   ]
  },
  {
   "cell_type": "code",
   "execution_count": null,
   "id": "f67dd0b9",
   "metadata": {},
   "outputs": [],
   "source": [
    "for file in train_img:\n",
    "        shutil.copy2(f\"../raw_data/{file}\",f\"../raw_data/classified_images/Train_lemon/{classify_category(merged_df,file)}/{file.split('/')[-1]}\")"
   ]
  },
  {
   "cell_type": "code",
   "execution_count": null,
   "id": "6f1e10fd",
   "metadata": {},
   "outputs": [],
   "source": [
    "for file in test_img:\n",
    "    shutil.copy2(f\"../raw_data/{file}\",f\"../raw_data/classified_images/Test_lemon/{classify_category(merged_df,file)}/{file.split('/')[-1]}\")"
   ]
  },
  {
   "cell_type": "code",
   "execution_count": null,
   "id": "79c6f1e8",
   "metadata": {},
   "outputs": [],
   "source": [
    "# for file in files:\n",
    "#     shutil.copy2(f\"../raw_data/{file}\",\n",
    "#                  f\"../raw_data/classified_images/{classify_category(merged_df,file)}/{file.split('/')[-1]}\") \n",
    "    "
   ]
  },
  {
   "cell_type": "code",
   "execution_count": null,
   "id": "dc8f1729",
   "metadata": {},
   "outputs": [],
   "source": [
    "len(os.listdir(\"../raw_data/classified_images/Train_lemon/Healthy_lemon\"))"
   ]
  },
  {
   "cell_type": "code",
   "execution_count": null,
   "id": "e62f153b",
   "metadata": {},
   "outputs": [],
   "source": [
    "len(os.listdir(\"../raw_data/classified_images/Train_lemon/Unhealthy_lemon\"))"
   ]
  },
  {
   "cell_type": "code",
   "execution_count": null,
   "id": "fa8a8ba2",
   "metadata": {},
   "outputs": [],
   "source": [
    "len(os.listdir(\"../raw_data/classified_images/Test_lemon/Healthy_lemon\"))"
   ]
  },
  {
   "cell_type": "code",
   "execution_count": null,
   "id": "c47d09b6",
   "metadata": {},
   "outputs": [],
   "source": [
    "len(os.listdir(\"../raw_data/classified_images/Test_lemon/Unhealthy_lemon\"))"
   ]
  },
  {
   "cell_type": "code",
   "execution_count": null,
   "id": "b2973fa9",
   "metadata": {},
   "outputs": [],
   "source": []
  },
  {
   "cell_type": "markdown",
   "id": "a3409093",
   "metadata": {},
   "source": [
    "## Make a baseline model"
   ]
  },
  {
   "cell_type": "code",
   "execution_count": null,
   "id": "d379931e",
   "metadata": {},
   "outputs": [],
   "source": [
    "#Use this method to quickly read a small number of images\n",
    "filepath = os.listdir(\"..raw_data/classified_images/Train_lemon/Healthy_lemon\") # a folder of some images\n",
    "filepath"
   ]
  },
  {
   "cell_type": "code",
   "execution_count": null,
   "id": "94e1c340",
   "metadata": {},
   "outputs": [],
   "source": [
    "# lemon_data = []\n",
    "# for file in filepath:\n",
    "#     lemon_data.append(image.imread(f'..raw_data/classified_images/Train_lemon/Healthy_lemon/{file}'))"
   ]
  },
  {
   "cell_type": "code",
   "execution_count": null,
   "id": "5399720e",
   "metadata": {},
   "outputs": [],
   "source": [
    "lemon_data = utils.image_dataset_from_directory('..raw_data/classified_images/Train_lemon')\n",
    "#this should give you a list of how many files per category eg healthy or unhealthy"
   ]
  },
  {
   "cell_type": "code",
   "execution_count": null,
   "id": "c297780f",
   "metadata": {},
   "outputs": [],
   "source": [
    "# from pycocotools.coco import COCO\n",
    "# coco = COCO(\"../raw_data/annotations/instances_default.json\")"
   ]
  },
  {
   "cell_type": "code",
   "execution_count": null,
   "id": "a6eead10",
   "metadata": {},
   "outputs": [],
   "source": [
    "# coco.anns"
   ]
  },
  {
   "cell_type": "code",
   "execution_count": null,
   "id": "a63865de",
   "metadata": {},
   "outputs": [],
   "source": [
    "# coco.dataset"
   ]
  }
 ],
 "metadata": {
  "kernelspec": {
   "display_name": "Python 3 (ipykernel)",
   "language": "python",
   "name": "python3"
  },
  "language_info": {
   "codemirror_mode": {
    "name": "ipython",
    "version": 3
   },
   "file_extension": ".py",
   "mimetype": "text/x-python",
   "name": "python",
   "nbconvert_exporter": "python",
   "pygments_lexer": "ipython3",
   "version": "3.8.13"
  },
  "toc": {
   "base_numbering": 1,
   "nav_menu": {},
   "number_sections": true,
   "sideBar": true,
   "skip_h1_title": false,
   "title_cell": "Table of Contents",
   "title_sidebar": "Contents",
   "toc_cell": false,
   "toc_position": {},
   "toc_section_display": true,
   "toc_window_display": false
  }
 },
 "nbformat": 4,
 "nbformat_minor": 5
}
