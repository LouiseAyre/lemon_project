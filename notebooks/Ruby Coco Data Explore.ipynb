{
 "cells": [
  {
   "cell_type": "code",
   "execution_count": 1,
   "id": "b88b6ad9",
   "metadata": {},
   "outputs": [
    {
     "name": "stdout",
     "output_type": "stream",
     "text": [
      "\u001b[0m\u001b[01;34mimages\u001b[0m/  instances_default.json\n"
     ]
    }
   ],
   "source": [
    "ls ../raw_data"
   ]
  },
  {
   "cell_type": "code",
   "execution_count": 5,
   "id": "d0d37e3e-bcb4-45be-8b2a-fd63961bf48f",
   "metadata": {},
   "outputs": [
    {
     "name": "stdout",
     "output_type": "stream",
     "text": [
      "\u001b[31mERROR: Could not find a version that satisfies the requirement json (from versions: none)\u001b[0m\u001b[31m\n",
      "\u001b[0m\u001b[31mERROR: No matching distribution found for json\u001b[0m\u001b[31m\n",
      "\u001b[0m"
     ]
    }
   ],
   "source": [
    "\n"
   ]
  },
  {
   "cell_type": "code",
   "execution_count": 10,
   "id": "ba8c1133",
   "metadata": {},
   "outputs": [],
   "source": [
    "import json"
   ]
  },
  {
   "cell_type": "code",
   "execution_count": 11,
   "id": "523b5e1a",
   "metadata": {},
   "outputs": [
    {
     "ename": "FileNotFoundError",
     "evalue": "[Errno 2] No such file or directory: '../raw_data/instances_default.json'",
     "output_type": "error",
     "traceback": [
      "\u001b[0;31m---------------------------------------------------------------------------\u001b[0m",
      "\u001b[0;31mFileNotFoundError\u001b[0m                         Traceback (most recent call last)",
      "Input \u001b[0;32mIn [11]\u001b[0m, in \u001b[0;36m<cell line: 1>\u001b[0;34m()\u001b[0m\n\u001b[0;32m----> 1\u001b[0m json\u001b[38;5;241m.\u001b[39mload(\u001b[38;5;28;43mopen\u001b[39;49m\u001b[43m(\u001b[49m\u001b[38;5;124;43m'\u001b[39;49m\u001b[38;5;124;43m../raw_data/instances_default.json\u001b[39;49m\u001b[38;5;124;43m'\u001b[39;49m\u001b[43m)\u001b[49m)\n",
      "\u001b[0;31mFileNotFoundError\u001b[0m: [Errno 2] No such file or directory: '../raw_data/instances_default.json'"
     ]
    }
   ],
   "source": []
  },
  {
   "cell_type": "code",
   "execution_count": 21,
   "id": "6388b233-0678-41b3-ac3b-6a4522161a95",
   "metadata": {},
   "outputs": [
    {
     "name": "stdout",
     "output_type": "stream",
     "text": [
      "Requirement already satisfied: pandas in /Users/ruby/.pyenv/versions/3.8.13/envs/lemon_project/lib/python3.8/site-packages (1.4.3)\n",
      "Requirement already satisfied: numpy>=1.18.5 in /Users/ruby/.pyenv/versions/3.8.13/envs/lemon_project/lib/python3.8/site-packages (from pandas) (1.23.1)\n",
      "Requirement already satisfied: python-dateutil>=2.8.1 in /Users/ruby/.pyenv/versions/3.8.13/envs/lemon_project/lib/python3.8/site-packages (from pandas) (2.8.2)\n",
      "Requirement already satisfied: pytz>=2020.1 in /Users/ruby/.pyenv/versions/3.8.13/envs/lemon_project/lib/python3.8/site-packages (from pandas) (2022.1)\n",
      "Requirement already satisfied: six>=1.5 in /Users/ruby/.pyenv/versions/3.8.13/envs/lemon_project/lib/python3.8/site-packages (from python-dateutil>=2.8.1->pandas) (1.16.0)\n"
     ]
    }
   ],
   "source": [
    "!Pip install pandas\n"
   ]
  },
  {
   "cell_type": "code",
   "execution_count": 22,
   "id": "5303fd49-83eb-4014-8af8-1c0c7349af1d",
   "metadata": {},
   "outputs": [],
   "source": [
    "import pandas as pd"
   ]
  },
  {
   "cell_type": "code",
   "execution_count": 25,
   "id": "9f16b4f2",
   "metadata": {},
   "outputs": [],
   "source": [
    "data = json.load(open(\"instances_default.json\"))\n"
   ]
  },
  {
   "cell_type": "code",
   "execution_count": 26,
   "id": "8be5774c-2471-4bfc-ac43-2251bb165cba",
   "metadata": {},
   "outputs": [
    {
     "name": "stdout",
     "output_type": "stream",
     "text": [
      "<class 'dict'>\n"
     ]
    }
   ],
   "source": [
    "print(type(data))"
   ]
  },
  {
   "cell_type": "code",
   "execution_count": 14,
   "id": "5f504509",
   "metadata": {},
   "outputs": [
    {
     "data": {
      "text/plain": [
       "dict_keys(['licenses', 'info', 'annotations', 'images', 'categories'])"
      ]
     },
     "execution_count": 14,
     "metadata": {},
     "output_type": "execute_result"
    }
   ],
   "source": [
    "data.keys()"
   ]
  },
  {
   "cell_type": "code",
   "execution_count": null,
   "id": "59edd243",
   "metadata": {},
   "outputs": [],
   "source": [
    "data['images']"
   ]
  },
  {
   "cell_type": "code",
   "execution_count": 9,
   "id": "41f26cd6",
   "metadata": {},
   "outputs": [],
   "source": [
    "# Function that matches annotation categories #\n",
    "# training examples , X and y\n",
    "# number of images\n",
    "# catoriges\n",
    "# print images from different categories - classification examples\n",
    "# "
   ]
  },
  {
   "cell_type": "code",
   "execution_count": 16,
   "id": "a686fb27",
   "metadata": {},
   "outputs": [
    {
     "data": {
      "text/plain": [
       "[{'id': 1, 'supercategory': '', 'name': 'image_quality'},\n",
       " {'id': 2, 'supercategory': '', 'name': 'illness'},\n",
       " {'id': 3, 'supercategory': '', 'name': 'gangrene'},\n",
       " {'id': 4, 'supercategory': '', 'name': 'mould'},\n",
       " {'id': 5, 'supercategory': '', 'name': 'blemish'},\n",
       " {'id': 6, 'supercategory': '', 'name': 'dark_style_remains'},\n",
       " {'id': 7, 'supercategory': '', 'name': 'artifact'},\n",
       " {'id': 8, 'supercategory': '', 'name': 'condition'},\n",
       " {'id': 9, 'supercategory': '', 'name': 'pedicel'}]"
      ]
     },
     "execution_count": 16,
     "metadata": {},
     "output_type": "execute_result"
    }
   ],
   "source": [
    "data['categories']"
   ]
  },
  {
   "cell_type": "code",
   "execution_count": null,
   "id": "9cceb7c2",
   "metadata": {},
   "outputs": [],
   "source": [
    "data['annotations']"
   ]
  },
  {
   "cell_type": "code",
   "execution_count": 27,
   "id": "7ebe29b4-b8c7-44a2-a7f3-96b3fc6149ad",
   "metadata": {},
   "outputs": [
    {
     "data": {
      "text/plain": [
       "{'id': 1,\n",
       " 'iscrowd': 0,\n",
       " 'area': 539.0,\n",
       " 'category_id': 9,\n",
       " 'image_id': 0,\n",
       " 'segmentation': [[179.15200000000914,\n",
       "   641.3920000000107,\n",
       "   179.0080000000089,\n",
       "   641.2480000000105,\n",
       "   176.99200000000928,\n",
       "   640.0960000000105,\n",
       "   175.1200000000099,\n",
       "   638.080000000009,\n",
       "   172.96000000001004,\n",
       "   637.3600000000097,\n",
       "   170.65600000000995,\n",
       "   636.4960000000101,\n",
       "   168.35200000000987,\n",
       "   636.2080000000096,\n",
       "   166.33600000001024,\n",
       "   635.2000000000098,\n",
       "   165.32800000001043,\n",
       "   633.1840000000102,\n",
       "   163.7440000000097,\n",
       "   631.6000000000095,\n",
       "   161.72800000001007,\n",
       "   630.4480000000094,\n",
       "   160.57600000001003,\n",
       "   628.57600000001,\n",
       "   160.0000000000091,\n",
       "   626.4160000000102,\n",
       "   158.84800000000905,\n",
       "   624.5440000000108,\n",
       "   157.98400000000947,\n",
       "   622.3840000000091,\n",
       "   157.40800000001036,\n",
       "   620.2240000000093,\n",
       "   157.40800000001036,\n",
       "   617.9200000000092,\n",
       "   157.55200000000877,\n",
       "   615.4720000000107,\n",
       "   158.41600000001017,\n",
       "   613.4560000000092,\n",
       "   159.71200000001045,\n",
       "   611.5840000000098,\n",
       "   160.86400000000867,\n",
       "   609.42400000001,\n",
       "   163.0,\n",
       "   607.0,\n",
       "   164.0,\n",
       "   606.0,\n",
       "   165.47200000000885,\n",
       "   604.5280000000093,\n",
       "   167.4880000000103,\n",
       "   603.6640000000098,\n",
       "   168.92800000000898,\n",
       "   605.5360000000092,\n",
       "   170.51200000000972,\n",
       "   607.2640000000101,\n",
       "   171.52000000000953,\n",
       "   609.2800000000097,\n",
       "   172.8160000000098,\n",
       "   611.1520000000091,\n",
       "   174.40000000000873,\n",
       "   612.7360000000099,\n",
       "   175.1200000000099,\n",
       "   614.8960000000097,\n",
       "   175.40800000001036,\n",
       "   617.0560000000096,\n",
       "   175.55200000000877,\n",
       "   619.3600000000097,\n",
       "   176.1280000000097,\n",
       "   621.6640000000098,\n",
       "   176.84800000000905,\n",
       "   623.8240000000096,\n",
       "   178.0000000000091,\n",
       "   625.696000000009,\n",
       "   179.15200000000914,\n",
       "   627.5680000000102,\n",
       "   180.16000000000895,\n",
       "   629.7280000000101,\n",
       "   181.02400000001035,\n",
       "   632.0320000000102,\n",
       "   181.45600000000923,\n",
       "   634.19200000001,\n",
       "   182.7520000000095,\n",
       "   636.2080000000096,\n",
       "   183.7600000000093,\n",
       "   638.2240000000093,\n",
       "   184.6240000000089,\n",
       "   640.2400000000107,\n",
       "   184.48000000001048,\n",
       "   642.4000000000106]],\n",
       " 'bbox': [157.40800000001036,\n",
       "  603.6640000000098,\n",
       "  27.21599999999853,\n",
       "  38.736000000000786]}"
      ]
     },
     "execution_count": 27,
     "metadata": {},
     "output_type": "execute_result"
    }
   ],
   "source": [
    "data['annotations'][0]"
   ]
  },
  {
   "cell_type": "code",
   "execution_count": 18,
   "id": "acc042e7",
   "metadata": {},
   "outputs": [
    {
     "data": {
      "text/plain": [
       "dict_keys(['id', 'iscrowd', 'area', 'category_id', 'image_id', 'segmentation', 'bbox'])"
      ]
     },
     "execution_count": 18,
     "metadata": {},
     "output_type": "execute_result"
    }
   ],
   "source": [
    "data['annotations'][0].keys()\n"
   ]
  },
  {
   "cell_type": "code",
   "execution_count": 14,
   "id": "1b42fefb",
   "metadata": {},
   "outputs": [
    {
     "data": {
      "text/plain": [
       "33753"
      ]
     },
     "execution_count": 14,
     "metadata": {},
     "output_type": "execute_result"
    }
   ],
   "source": [
    "len(data['annotations'])"
   ]
  },
  {
   "cell_type": "code",
   "execution_count": null,
   "id": "8cdfdb2b",
   "metadata": {},
   "outputs": [],
   "source": [
    "count_condition = 0\n",
    "for item in data['annotations']:\n",
    "    if item['category_id'] == "
   ]
  },
  {
   "cell_type": "code",
   "execution_count": null,
   "id": "c4006955",
   "metadata": {},
   "outputs": [],
   "source": []
  },
  {
   "cell_type": "code",
   "execution_count": null,
   "id": "bea3b64d",
   "metadata": {},
   "outputs": [],
   "source": []
  },
  {
   "cell_type": "code",
   "execution_count": null,
   "id": "d0baeb3d",
   "metadata": {},
   "outputs": [],
   "source": []
  }
 ],
 "metadata": {
  "kernelspec": {
   "display_name": "Python 3.8.13 64-bit ('shims')",
   "language": "python",
   "name": "python3"
  },
  "language_info": {
   "codemirror_mode": {
    "name": "ipython",
    "version": 3
   },
   "file_extension": ".py",
   "mimetype": "text/x-python",
   "name": "python",
   "nbconvert_exporter": "python",
   "pygments_lexer": "ipython3",
   "version": "3.8.13"
  },
  "toc": {
   "base_numbering": 1,
   "nav_menu": {},
   "number_sections": true,
   "sideBar": true,
   "skip_h1_title": false,
   "title_cell": "Table of Contents",
   "title_sidebar": "Contents",
   "toc_cell": false,
   "toc_position": {},
   "toc_section_display": true,
   "toc_window_display": false
  },
  "vscode": {
   "interpreter": {
    "hash": "b756913d484a57ab30bb63ab4dcea2e09a798e2d0a47bd120c4333e7563caf7f"
   }
  }
 },
 "nbformat": 4,
 "nbformat_minor": 5
}
