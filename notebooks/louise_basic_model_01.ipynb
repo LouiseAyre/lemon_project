{
 "cells": [
  {
   "cell_type": "markdown",
   "id": "754af1da",
   "metadata": {},
   "source": [
    "# Lemon Project - Basic Model  "
   ]
  },
  {
   "cell_type": "markdown",
   "id": "b43de15b",
   "metadata": {},
   "source": [
    "Raw images are 1056 x 1056 pixels\n",
    "Need to make them a bit smaller to avoid having 1,115,136 input neurons! haha\n",
    "The output of the model will have just 2 categories - healthy and unhealthy"
   ]
  },
  {
   "cell_type": "code",
   "execution_count": 1,
   "id": "924fcc60",
   "metadata": {},
   "outputs": [],
   "source": [
    "import numpy as np\n",
    "# import pandas as pd\n",
    "import matplotlib.pyplot as plt\n",
    "%matplotlib inline\n",
    "from matplotlib import image\n",
    "import os"
   ]
  },
  {
   "cell_type": "code",
   "execution_count": 2,
   "id": "025f2cb0",
   "metadata": {},
   "outputs": [],
   "source": [
    "# test_img = image.imread(\"lemon_sample/healthy/0002_C_V_120_G.jpg\")"
   ]
  },
  {
   "cell_type": "code",
   "execution_count": 3,
   "id": "22f293c7",
   "metadata": {},
   "outputs": [],
   "source": [
    "# img_shape = np.shape(test_img)\n",
    "# img_shape"
   ]
  },
  {
   "cell_type": "code",
   "execution_count": 4,
   "id": "f2ef74cb",
   "metadata": {},
   "outputs": [],
   "source": [
    "# plt.imshow(test_img)"
   ]
  },
  {
   "cell_type": "code",
   "execution_count": 5,
   "id": "0e3801ef",
   "metadata": {},
   "outputs": [],
   "source": [
    "# Use this method to quickly read small numbers of images\n",
    "# filepath = os.listdir('lemon_sample/healthy/healthy')\n",
    "# data = []\n",
    "# for file in filepath:\n",
    "#     data.append(image.imread(f'lemon_sample/healthy/{file}'))"
   ]
  },
  {
   "cell_type": "code",
   "execution_count": 6,
   "id": "9b42805f",
   "metadata": {},
   "outputs": [],
   "source": [
    "# plt.imshow(data[0])"
   ]
  },
  {
   "cell_type": "code",
   "execution_count": 7,
   "id": "29735ff4",
   "metadata": {},
   "outputs": [
    {
     "name": "stderr",
     "output_type": "stream",
     "text": [
      "2022-08-06 16:57:49.624535: W tensorflow/stream_executor/platform/default/dso_loader.cc:64] Could not load dynamic library 'libcudart.so.11.0'; dlerror: libcudart.so.11.0: cannot open shared object file: No such file or directory\n",
      "2022-08-06 16:57:49.624640: I tensorflow/stream_executor/cuda/cudart_stub.cc:29] Ignore above cudart dlerror if you do not have a GPU set up on your machine.\n"
     ]
    }
   ],
   "source": [
    "# Use this method to prepare a data set for use in a model - only reads the images on when needed\n",
    "# Returns a tf.data.Dataset object\n",
    "\n",
    "from tensorflow.keras import utils\n",
    "\n",
    "# data = utils.image_dataset_from_directory('lemon_sample')"
   ]
  },
  {
   "cell_type": "code",
   "execution_count": 8,
   "id": "6dfc9c19",
   "metadata": {},
   "outputs": [
    {
     "name": "stdout",
     "output_type": "stream",
     "text": [
      "Found 12 files belonging to 2 classes.\n",
      "Using 10 files for training.\n",
      "Found 12 files belonging to 2 classes.\n",
      "Using 2 files for validation.\n"
     ]
    },
    {
     "name": "stderr",
     "output_type": "stream",
     "text": [
      "2022-08-06 16:57:53.015786: W tensorflow/stream_executor/platform/default/dso_loader.cc:64] Could not load dynamic library 'libcuda.so.1'; dlerror: libcuda.so.1: cannot open shared object file: No such file or directory\n",
      "2022-08-06 16:57:53.015876: W tensorflow/stream_executor/cuda/cuda_driver.cc:269] failed call to cuInit: UNKNOWN ERROR (303)\n",
      "2022-08-06 16:57:53.015913: I tensorflow/stream_executor/cuda/cuda_diagnostics.cc:156] kernel driver does not appear to be running on this host (DESKTOP-FIJER02): /proc/driver/nvidia/version does not exist\n",
      "2022-08-06 16:57:53.016423: I tensorflow/core/platform/cpu_feature_guard.cc:193] This TensorFlow binary is optimized with oneAPI Deep Neural Network Library (oneDNN) to use the following CPU instructions in performance-critical operations:  AVX2 FMA\n",
      "To enable them in other operations, rebuild TensorFlow with the appropriate compiler flags.\n"
     ]
    }
   ],
   "source": [
    "train_data = utils.image_dataset_from_directory('lemon_sample', seed = 1,validation_split = 0.2, subset = 'training')\n",
    "validation_data = utils.image_dataset_from_directory('lemon_sample', seed =1, validation_split = 0.2, subset = 'validation')"
   ]
  },
  {
   "cell_type": "code",
   "execution_count": 9,
   "id": "346a3087",
   "metadata": {},
   "outputs": [],
   "source": [
    "# data.__dict__\n"
   ]
  },
  {
   "cell_type": "code",
   "execution_count": 10,
   "id": "62bc9da7",
   "metadata": {},
   "outputs": [],
   "source": [
    "# data.keys()"
   ]
  },
  {
   "cell_type": "markdown",
   "id": "6b943171",
   "metadata": {},
   "source": [
    "## Convolutional Neural Network (CNN)"
   ]
  },
  {
   "cell_type": "markdown",
   "id": "1017c773",
   "metadata": {},
   "source": [
    "### Dimensionality"
   ]
  },
  {
   "cell_type": "code",
   "execution_count": 11,
   "id": "2c8de698",
   "metadata": {},
   "outputs": [],
   "source": [
    "from tensorflow.keras.backend import expand_dims\n",
    "from tensorflow.keras import layers\n",
    "from tensorflow.keras import models"
   ]
  },
  {
   "cell_type": "code",
   "execution_count": 12,
   "id": "3c3ac35d",
   "metadata": {},
   "outputs": [],
   "source": [
    "# X_train[0].shape"
   ]
  },
  {
   "cell_type": "code",
   "execution_count": 13,
   "id": "1944c3dd",
   "metadata": {},
   "outputs": [],
   "source": [
    "# X_train = expand_dims(X_train)\n",
    "# X_train.shape"
   ]
  },
  {
   "cell_type": "code",
   "execution_count": 14,
   "id": "bb773342",
   "metadata": {},
   "outputs": [],
   "source": [
    "# X_test = expand_dims(X_test)\n",
    "# X_test.shape"
   ]
  },
  {
   "cell_type": "markdown",
   "id": "09bd3467",
   "metadata": {},
   "source": [
    "### Label Encoding"
   ]
  },
  {
   "cell_type": "markdown",
   "id": "4c5e01a8",
   "metadata": {},
   "source": [
    "**Not sure if we need this section "
   ]
  },
  {
   "cell_type": "code",
   "execution_count": 15,
   "id": "b5cb04f5",
   "metadata": {},
   "outputs": [],
   "source": [
    "from tensorflow.keras.utils import to_categorical\n",
    "\n",
    "# y_train_cat = to_categorical(y_train, num_classes=2)\n",
    "# y_test_cat = to_categorical(y_test, num_classes=2)"
   ]
  },
  {
   "cell_type": "markdown",
   "id": "f49fc3c5",
   "metadata": {},
   "source": [
    "### Basic CNN"
   ]
  },
  {
   "cell_type": "code",
   "execution_count": 16,
   "id": "e33d47f9",
   "metadata": {},
   "outputs": [],
   "source": [
    "from tensorflow.keras import layers, models, optimizers, losses, metrics\n",
    "# from tensorflow.keras import models"
   ]
  },
  {
   "cell_type": "code",
   "execution_count": 17,
   "id": "0b652301",
   "metadata": {},
   "outputs": [],
   "source": [
    "def initialize_model():\n",
    "\n",
    "    model = models.Sequential()\n",
    "    \n",
    "    ### Resizing layer before Model\n",
    "    model.add(layers.Resizing(128,128, input_shape=(256, 256, 3)))\n",
    "\n",
    "    ### First Convolution & MaxPooling\n",
    "    model.add(layers.Conv2D(8, (28,28), activation='relu', padding='same', input_shape=(128,128, 3)))\n",
    "    model.add(layers.MaxPool2D(pool_size=(2,2)))\n",
    "    \n",
    "    ### Second Convolution & MaxPooling\n",
    "    model.add(layers.Conv2D(16, (3,3), activation='relu'))\n",
    "    model.add(layers.MaxPool2D(pool_size=(2,2)))\n",
    "    \n",
    "    ## Extra Layers just for fun ##\n",
    "#     model.add(layers.Conv2D(64, (3,3), activation='relu'))\n",
    "#     model.add(layers.MaxPool2D(pool_size=(2,2)))\n",
    "    \n",
    "#     model.add(layers.Conv2D(64, (3,3), activation='relu'))\n",
    "#     model.add(layers.MaxPool2D(pool_size=(2,2)))\n",
    "    \n",
    "    ### Flattening\n",
    "    model.add(layers.Flatten())\n",
    "    \n",
    "    ### One Fully Connected layer - \"Fully Connected\" is equivalent to saying \"Dense\"\n",
    "    model.add(layers.Dense(10, activation='relu'))\n",
    "    \n",
    "    ### Last layer - Classification Layer with 10 outputs corresponding to 10 digits\n",
    "    model.add(layers.Dense(1, activation='sigmoid'))\n",
    "    \n",
    "    ### Model compilation\n",
    "    model.compile(loss='binary_crossentropy',  #'sparse_categorical_crossentropy'\n",
    "                  optimizer='adam', \n",
    "                  metrics=['accuracy'])\n",
    "    return model"
   ]
  },
  {
   "cell_type": "code",
   "execution_count": 18,
   "id": "c205201b",
   "metadata": {},
   "outputs": [],
   "source": [
    "# Optimizer\n",
    "optimizer = optimizers.Adam(\n",
    "    learning_rate=0.00001, beta_1=0.9, beta_2=0.999, epsilon=1e-07,\n",
    "    name='Nadam')\n",
    "    "
   ]
  },
  {
   "cell_type": "code",
   "execution_count": 19,
   "id": "e7bf47db",
   "metadata": {},
   "outputs": [],
   "source": [
    "# Loss Function\n",
    "lossfn = losses.SparseCategoricalCrossentropy( from_logits=False, reduction=losses.Reduction.AUTO, name='sparse_categorical_crossentropy')"
   ]
  },
  {
   "cell_type": "code",
   "execution_count": 20,
   "id": "fd3caab6",
   "metadata": {},
   "outputs": [],
   "source": [
    "# model.compile(optimizer=optimizer, loss='binary_crossentropy', metrics=['accuracy', metrics.CategoricalAccuracy()])"
   ]
  },
  {
   "cell_type": "code",
   "execution_count": 21,
   "id": "1c70855d",
   "metadata": {},
   "outputs": [
    {
     "name": "stdout",
     "output_type": "stream",
     "text": [
      "Model: \"sequential\"\n",
      "_________________________________________________________________\n",
      " Layer (type)                Output Shape              Param #   \n",
      "=================================================================\n",
      " resizing (Resizing)         (None, 128, 128, 3)       0         \n",
      "                                                                 \n",
      " conv2d (Conv2D)             (None, 128, 128, 8)       18824     \n",
      "                                                                 \n",
      " max_pooling2d (MaxPooling2D  (None, 64, 64, 8)        0         \n",
      " )                                                               \n",
      "                                                                 \n",
      " conv2d_1 (Conv2D)           (None, 62, 62, 16)        1168      \n",
      "                                                                 \n",
      " max_pooling2d_1 (MaxPooling  (None, 31, 31, 16)       0         \n",
      " 2D)                                                             \n",
      "                                                                 \n",
      " flatten (Flatten)           (None, 15376)             0         \n",
      "                                                                 \n",
      " dense (Dense)               (None, 10)                153770    \n",
      "                                                                 \n",
      " dense_1 (Dense)             (None, 1)                 11        \n",
      "                                                                 \n",
      "=================================================================\n",
      "Total params: 173,773\n",
      "Trainable params: 173,773\n",
      "Non-trainable params: 0\n",
      "_________________________________________________________________\n"
     ]
    }
   ],
   "source": [
    "model = initialize_model()\n",
    "model.summary()"
   ]
  },
  {
   "cell_type": "markdown",
   "id": "624c5b87",
   "metadata": {},
   "source": [
    "### Train The Model"
   ]
  },
  {
   "cell_type": "code",
   "execution_count": 22,
   "id": "3319a1e5",
   "metadata": {},
   "outputs": [],
   "source": [
    "from tensorflow.keras.callbacks import EarlyStopping"
   ]
  },
  {
   "cell_type": "code",
   "execution_count": 23,
   "id": "517e190d",
   "metadata": {},
   "outputs": [
    {
     "name": "stdout",
     "output_type": "stream",
     "text": [
      "Epoch 1/5\n"
     ]
    },
    {
     "name": "stderr",
     "output_type": "stream",
     "text": [
      "2022-08-06 16:57:55.697643: W tensorflow/core/framework/cpu_allocator_impl.cc:82] Allocation of 154140672 exceeds 10% of free system memory.\n"
     ]
    },
    {
     "name": "stdout",
     "output_type": "stream",
     "text": [
      "1/1 [==============================] - 5s 5s/step - loss: 4.2342 - accuracy: 0.4000 - val_loss: 15.2058 - val_accuracy: 0.5000\n",
      "Epoch 2/5\n"
     ]
    },
    {
     "name": "stderr",
     "output_type": "stream",
     "text": [
      "2022-08-06 16:57:58.998047: W tensorflow/core/framework/cpu_allocator_impl.cc:82] Allocation of 154140672 exceeds 10% of free system memory.\n"
     ]
    },
    {
     "name": "stdout",
     "output_type": "stream",
     "text": [
      "1/1 [==============================] - 3s 3s/step - loss: 16.1802 - accuracy: 0.5000 - val_loss: 31.0415 - val_accuracy: 0.5000\n",
      "Epoch 3/5\n"
     ]
    },
    {
     "name": "stderr",
     "output_type": "stream",
     "text": [
      "2022-08-06 16:58:01.904416: W tensorflow/core/framework/cpu_allocator_impl.cc:82] Allocation of 154140672 exceeds 10% of free system memory.\n"
     ]
    },
    {
     "name": "stdout",
     "output_type": "stream",
     "text": [
      "1/1 [==============================] - 3s 3s/step - loss: 25.5532 - accuracy: 0.5000 - val_loss: 16.5754 - val_accuracy: 0.5000\n",
      "Epoch 4/5\n"
     ]
    },
    {
     "name": "stderr",
     "output_type": "stream",
     "text": [
      "2022-08-06 16:58:04.800404: W tensorflow/core/framework/cpu_allocator_impl.cc:82] Allocation of 154140672 exceeds 10% of free system memory.\n"
     ]
    },
    {
     "name": "stdout",
     "output_type": "stream",
     "text": [
      "1/1 [==============================] - 3s 3s/step - loss: 12.6564 - accuracy: 0.5000 - val_loss: 4.7916 - val_accuracy: 0.5000\n",
      "Epoch 5/5\n"
     ]
    },
    {
     "name": "stderr",
     "output_type": "stream",
     "text": [
      "2022-08-06 16:58:07.624425: W tensorflow/core/framework/cpu_allocator_impl.cc:82] Allocation of 154140672 exceeds 10% of free system memory.\n"
     ]
    },
    {
     "name": "stdout",
     "output_type": "stream",
     "text": [
      "1/1 [==============================] - 3s 3s/step - loss: 1.8597 - accuracy: 0.5000 - val_loss: 0.7720 - val_accuracy: 0.5000\n"
     ]
    }
   ],
   "source": [
    "## model = initialize_model()\n",
    "\n",
    "es = EarlyStopping()\n",
    "\n",
    "histroy = model.fit(train_data, \n",
    "          batch_size=2, \n",
    "          epochs=5,\n",
    "          validation_data = validation_data\n",
    "          )\n",
    "\n",
    "          \n",
    "# callbacks=[es],verbose = 1,"
   ]
  },
  {
   "cell_type": "markdown",
   "id": "23e0ebb4",
   "metadata": {},
   "source": [
    "### Evaluate The Model"
   ]
  },
  {
   "cell_type": "code",
   "execution_count": 24,
   "id": "675d7dfa",
   "metadata": {},
   "outputs": [
    {
     "name": "stdout",
     "output_type": "stream",
     "text": [
      "[0.4978492856025696, 0.800000011920929]\n"
     ]
    }
   ],
   "source": [
    "print(model.evaluate(train_data, verbose=0))"
   ]
  },
  {
   "cell_type": "code",
   "execution_count": 25,
   "id": "4ed0da65",
   "metadata": {},
   "outputs": [],
   "source": [
    "def plot_loss_accuracy(history, title=None):\n",
    "    fig, ax = plt.subplots(1,2, figsize=(20,7))\n",
    "    \n",
    "    # --- LOSS --- \n",
    "    \n",
    "    ax[0].plot(history.history['loss'])\n",
    "    ax[0].plot(history.history['val_loss'])\n",
    "    ax[0].set_title('Model loss')\n",
    "    ax[0].set_ylabel('Loss')\n",
    "    ax[0].set_xlabel('Epoch')\n",
    "    ax[0].set_ylim((0,3))\n",
    "    ax[0].legend(['Train', 'Test'], loc='best')\n",
    "    ax[0].grid(axis=\"x\",linewidth=0.5)\n",
    "    ax[0].grid(axis=\"y\",linewidth=0.5)\n",
    "    \n",
    "    # --- ACCURACY\n",
    "    \n",
    "    ax[1].plot(history.history['accuracy'])\n",
    "    ax[1].plot(history.history['val_accuracy'])\n",
    "    ax[1].set_title('Model Accuracy')\n",
    "    ax[1].set_ylabel('Accuracy')\n",
    "    ax[1].set_xlabel('Epoch')\n",
    "    ax[1].legend(['Train', 'Test'], loc='best')\n",
    "    ax[1].set_ylim((0,1))\n",
    "    ax[1].grid(axis=\"x\",linewidth=0.5)\n",
    "    ax[1].grid(axis=\"y\",linewidth=0.5)\n",
    "    \n",
    "    if title:\n",
    "        fig.suptitle(title)"
   ]
  },
  {
   "cell_type": "code",
   "execution_count": 26,
   "id": "8f1b4914",
   "metadata": {},
   "outputs": [
    {
     "data": {
      "image/png": "[encoded data removed]",
      "text/plain": [
       "<Figure size 1440x504 with 2 Axes>"
      ]
     },
     "metadata": {
      "needs_background": "light"
     },
     "output_type": "display_data"
    }
   ],
   "source": [
    "plot_loss_accuracy(histroy, title=\"loss accuracy for model\")"
   ]
  },
  {
   "cell_type": "code",
   "execution_count": 27,
   "id": "39ee2ce0",
   "metadata": {},
   "outputs": [],
   "source": [
    "weights = model.get_weights()\n",
    "model_kernel = weights[0][0][0]"
   ]
  },
  {
   "cell_type": "code",
   "execution_count": null,
   "id": "8ef24df4",
   "metadata": {},
   "outputs": [],
   "source": []
  },
  {
   "cell_type": "code",
   "execution_count": null,
   "id": "0906ddd4",
   "metadata": {},
   "outputs": [],
   "source": []
  },
  {
   "cell_type": "code",
   "execution_count": null,
   "id": "96709b26",
   "metadata": {},
   "outputs": [],
   "source": []
  },
  {
   "cell_type": "code",
   "execution_count": null,
   "id": "b7582405",
   "metadata": {},
   "outputs": [],
   "source": []
  },
  {
   "cell_type": "code",
   "execution_count": null,
   "id": "361baa28",
   "metadata": {},
   "outputs": [],
   "source": []
  },
  {
   "cell_type": "code",
   "execution_count": null,
   "id": "7c682ac8",
   "metadata": {},
   "outputs": [],
   "source": []
  },
  {
   "cell_type": "code",
   "execution_count": null,
   "id": "4483768a",
   "metadata": {},
   "outputs": [],
   "source": []
  },
  {
   "cell_type": "code",
   "execution_count": null,
   "id": "83a1c434",
   "metadata": {},
   "outputs": [],
   "source": []
  },
  {
   "cell_type": "code",
   "execution_count": null,
   "id": "b6374c65",
   "metadata": {},
   "outputs": [],
   "source": []
  },
  {
   "cell_type": "code",
   "execution_count": null,
   "id": "703bcf3c",
   "metadata": {},
   "outputs": [],
   "source": []
  },
  {
   "cell_type": "code",
   "execution_count": null,
   "id": "cb990c36",
   "metadata": {},
   "outputs": [],
   "source": []
  },
  {
   "cell_type": "code",
   "execution_count": null,
   "id": "0659ef49",
   "metadata": {},
   "outputs": [],
   "source": []
  }
 ],
 "metadata": {
  "kernelspec": {
   "display_name": "Python 3 (ipykernel)",
   "language": "python",
   "name": "python3"
  },
  "language_info": {
   "codemirror_mode": {
    "name": "ipython",
    "version": 3
   },
   "file_extension": ".py",
   "mimetype": "text/x-python",
   "name": "python",
   "nbconvert_exporter": "python",
   "pygments_lexer": "ipython3",
   "version": "3.8.13"
  },
  "toc": {
   "base_numbering": 1,
   "nav_menu": {},
   "number_sections": true,
   "sideBar": true,
   "skip_h1_title": false,
   "title_cell": "Table of Contents",
   "title_sidebar": "Contents",
   "toc_cell": false,
   "toc_position": {},
   "toc_section_display": true,
   "toc_window_display": false
  }
 },
 "nbformat": 4,
 "nbformat_minor": 5
}
