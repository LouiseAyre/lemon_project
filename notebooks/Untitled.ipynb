{
 "cells": [
  {
   "cell_type": "code",
   "execution_count": 1,
   "id": "83386c56",
   "metadata": {},
   "outputs": [],
   "source": [
    "import os\n",
    "from PIL import Image\n",
    "import numpy as np"
   ]
  },
  {
   "cell_type": "code",
   "execution_count": 2,
   "id": "d75b1b9b",
   "metadata": {},
   "outputs": [],
   "source": [
    "def strip_black_from_image(img):\n",
    "\n",
    "    x_id = np.argwhere(np.max(img, axis = (1, 2)) > 0).reshape(-1)\n",
    "\n",
    "    strip_img = img[x_id]\n",
    "    \n",
    "    y_id = np.argwhere(np.max(strip_img, axis = (0, 2)) > 0).reshape(-1)\n",
    "\n",
    "    return strip_img[:, y_id]"
   ]
  },
  {
   "cell_type": "code",
   "execution_count": 4,
   "id": "a49bb4ee",
   "metadata": {},
   "outputs": [],
   "source": [
    "four_folders = {'../raw_data/classified_images/Test_lemon/Unhealthy_lemon': '../raw_data/class_images_min/Test_lemon/Unhealthy_lemon',\n",
    "               '../raw_data/classified_images/Train_lemon/Unhealthy_lemon': '../raw_data/class_images_min/Train_lemon/Unhealthy_lemon',\n",
    "               '../raw_data/classified_images/Test_lemon/Healthy_lemon': '../raw_data/class_images_min/Test_lemon/Healthy_lemon',\n",
    "               '../raw_data/classified_images/Train_lemon/Healthy_lemon': '../raw_data/class_images_min/Train_lemon/Healthy_lemon'}"
   ]
  },
  {
   "cell_type": "code",
   "execution_count": 5,
   "id": "957bd963",
   "metadata": {},
   "outputs": [],
   "source": [
    "for directory in four_folders:\n",
    "\n",
    "    for filename in os.listdir(directory):\n",
    "\n",
    "        original_img_path = os.path.join(directory, filename)  \n",
    "\n",
    "        img = np.array(Image.open(original_img_path))\n",
    "\n",
    "        img = strip_black_from_image(img)\n",
    "\n",
    "        save_path = four_folders[directory]\n",
    "#       '../raw_data/Test_lemon_min/Unhealthy_lemon'\n",
    "\n",
    "        completeName = os.path.join(save_path, filename)  \n",
    "\n",
    "        img = Image.fromarray(img)\n",
    "        img.save(completeName)"
   ]
  },
  {
   "cell_type": "code",
   "execution_count": 3,
   "id": "fb93a4c5",
   "metadata": {},
   "outputs": [
    {
     "data": {
      "text/plain": [
       "'/home/loulet/code/LouiseAyre/lemon_project/notebooks'"
      ]
     },
     "execution_count": 3,
     "metadata": {},
     "output_type": "execute_result"
    }
   ],
   "source": [
    "pwd"
   ]
  }
 ],
 "metadata": {
  "kernelspec": {
   "display_name": "Python 3 (ipykernel)",
   "language": "python",
   "name": "python3"
  },
  "language_info": {
   "codemirror_mode": {
    "name": "ipython",
    "version": 3
   },
   "file_extension": ".py",
   "mimetype": "text/x-python",
   "name": "python",
   "nbconvert_exporter": "python",
   "pygments_lexer": "ipython3",
   "version": "3.8.13"
  },
  "toc": {
   "base_numbering": 1,
   "nav_menu": {},
   "number_sections": true,
   "sideBar": true,
   "skip_h1_title": false,
   "title_cell": "Table of Contents",
   "title_sidebar": "Contents",
   "toc_cell": false,
   "toc_position": {},
   "toc_section_display": true,
   "toc_window_display": false
  }
 },
 "nbformat": 4,
 "nbformat_minor": 5
}
