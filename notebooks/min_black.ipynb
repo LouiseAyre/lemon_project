{
 "cells": [
  {
   "cell_type": "markdown",
   "id": "70457c74",
   "metadata": {},
   "source": [
    "# Minimum Black Dataset\n",
    "Create a new dataset that shows the least amount of black space possible\n",
    "\n",
    "Code creates a box around the non-black space of the lemon and removes the remaining blackspace outside of this box"
   ]
  },
  {
   "cell_type": "code",
   "execution_count": 2,
   "id": "3676a1ed",
   "metadata": {},
   "outputs": [],
   "source": [
    "import os\n",
    "from PIL import Image\n",
    "import numpy as np"
   ]
  },
  {
   "cell_type": "code",
   "execution_count": 15,
   "id": "e882113c",
   "metadata": {},
   "outputs": [],
   "source": [
    "def strip_black_from_image(img):\n",
    "\n",
    "    x_id = np.argwhere(np.max(img, axis = (1, 2)) > 0).reshape(-1)\n",
    "\n",
    "    strip_img = img[x_id]\n",
    "    \n",
    "    y_id = np.argwhere(np.max(strip_img, axis = (0, 2)) > 0).reshape(-1)\n",
    "\n",
    "    return strip_img[:, y_id]"
   ]
  },
  {
   "cell_type": "code",
   "execution_count": 20,
   "id": "aa8c2942",
   "metadata": {},
   "outputs": [],
   "source": [
    "four_folders = {'../raw_data/Test_lemon/Unhealthy_lemon': '../raw_data/Test_lemon_min/Unhealthy_lemon',\n",
    "               '../raw_data/Train_lemon/Unhealthy_lemon': '../raw_data/Train_lemon_min/Unhealthy_lemon',\n",
    "               '../raw_data/Test_lemon/Healthy_lemon': '../raw_data/Test_lemon_min/Healthy_lemon',\n",
    "               '../raw_data/Train_lemon/Healthy_lemon': '../raw_data/Train_lemon_min/Healthy_lemon'}"
   ]
  },
  {
   "cell_type": "code",
   "execution_count": 22,
   "id": "8363779f",
   "metadata": {},
   "outputs": [],
   "source": [
    "for directory in four_folders:\n",
    "\n",
    "    for filename in os.listdir(directory):\n",
    "\n",
    "        original_img_path = os.path.join(directory, filename)  \n",
    "\n",
    "        img = np.array(Image.open(original_img_path))\n",
    "\n",
    "        img = strip_black_from_image(img)\n",
    "\n",
    "        save_path = four_folders[directory]\n",
    "#       '../raw_data/Test_lemon_min/Unhealthy_lemon'\n",
    "\n",
    "        completeName = os.path.join(save_path, filename)  \n",
    "\n",
    "        img = Image.fromarray(img)\n",
    "        img.save(completeName)\n"
   ]
  }
 ],
 "metadata": {
  "kernelspec": {
   "display_name": "Python 3 (ipykernel)",
   "language": "python",
   "name": "python3"
  },
  "language_info": {
   "codemirror_mode": {
    "name": "ipython",
    "version": 3
   },
   "file_extension": ".py",
   "mimetype": "text/x-python",
   "name": "python",
   "nbconvert_exporter": "python",
   "pygments_lexer": "ipython3",
   "version": "3.8.13"
  },
  "toc": {
   "base_numbering": 1,
   "nav_menu": {},
   "number_sections": true,
   "sideBar": true,
   "skip_h1_title": false,
   "title_cell": "Table of Contents",
   "title_sidebar": "Contents",
   "toc_cell": false,
   "toc_position": {},
   "toc_section_display": true,
   "toc_window_display": false
  }
 },
 "nbformat": 4,
 "nbformat_minor": 5
}
